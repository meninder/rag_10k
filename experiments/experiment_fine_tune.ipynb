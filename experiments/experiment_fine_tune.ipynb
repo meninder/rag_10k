{
 "cells": [
  {
   "cell_type": "markdown",
   "metadata": {},
   "source": [
    "Sept 9, 2023: finetuning my own adapter using llama_index code"
   ]
  },
  {
   "cell_type": "code",
   "execution_count": 1,
   "metadata": {},
   "outputs": [],
   "source": [
    "import sys\n",
    "sys.path.append('../')\n",
    "%load_ext autoreload\n",
    "%autoreload 2\n",
    "from src.logger import logger"
   ]
  },
  {
   "cell_type": "markdown",
   "metadata": {},
   "source": [
    "## 1. Load base embedding model; use Helper fns for adapter model, loss, optimizer\n",
    "- For the adapter, we use a linear model created using the nn.Module class.  There are 3 functions (get_config_dict, save and load) that is less typically, but allows one to save the adapter for later use.\n",
    "- The loss function also uses the nn.Module class, which allows a simpler application of the adapter.  However, this could be done in alternative methods."
   ]
  },
  {
   "cell_type": "code",
   "execution_count": 2,
   "metadata": {},
   "outputs": [],
   "source": [
    "from llama_index.embeddings import resolve_embed_model\n",
    "from src.adapter import LinearModel, LossFunction, optimizer\n",
    "embed_model = resolve_embed_model(\"local:BAAI/bge-small-en\")\n",
    "adapter = LinearModel(embed_model=embed_model)\n",
    "device='cpu'\n",
    "#device='mps'\n",
    "loss_function = LossFunction(model=adapter, device=device)\n",
    "opt = optimizer(model=adapter, lr=1e-3)"
   ]
  },
  {
   "cell_type": "markdown",
   "metadata": {},
   "source": [
    "## 2. Create a Dataset and a DataLoader\n",
    "This is done in the fairly standard way.  The only step to note is that the collate function converts the text into embeddings using the embedding model, so the partial function is needed."
   ]
  },
  {
   "cell_type": "code",
   "execution_count": 3,
   "metadata": {},
   "outputs": [],
   "source": [
    "from llama_index.finetuning import EmbeddingQAFinetuneDataset\n",
    "from torch.utils.data import DataLoader\n",
    "from src.adapter import data_to_dataset, collate_fn\n",
    "from functools import partial"
   ]
  },
  {
   "cell_type": "code",
   "execution_count": 4,
   "metadata": {},
   "outputs": [
    {
     "name": "stderr",
     "output_type": "stream",
     "text": [
      "2023-09-17 12:00:32,315 - src.logger - INFO - **MSP: Number of examples: 198\n",
      "2023-09-17 12:00:32,316 - src.logger - INFO - **MSP: Number of examples: 204\n"
     ]
    }
   ],
   "source": [
    "data = EmbeddingQAFinetuneDataset.from_json(\"../data/train_dataset.json\")\n",
    "data_validate = EmbeddingQAFinetuneDataset.from_json(\"../data/val_dataset.json\")\n",
    "dataset = data_to_dataset(data)\n",
    "dataset_validate = data_to_dataset(data_validate)\n",
    "collate_fn_ = partial(collate_fn, embed_model=embed_model)\n",
    "data_loader = DataLoader(dataset, batch_size=32, collate_fn=collate_fn_, shuffle=True)\n",
    "data_loader_validate = DataLoader(dataset_validate, batch_size=32, collate_fn=collate_fn_, shuffle=False)"
   ]
  },
  {
   "cell_type": "markdown",
   "metadata": {},
   "source": [
    "## 3. Set up parameters for Training"
   ]
  },
  {
   "cell_type": "code",
   "execution_count": 5,
   "metadata": {},
   "outputs": [
    {
     "name": "stderr",
     "output_type": "stream",
     "text": [
      "2023-09-17 12:00:32,378 - src.logger - INFO - Number of steps per epoch: 7\n",
      "2023-09-17 12:00:32,379 - src.logger - INFO - Number of training steps: 56\n"
     ]
    }
   ],
   "source": [
    "adapter.to(device)\n",
    "loss_function.to(device)\n",
    "epochs = 8\n",
    "steps_per_epoch = len(data_loader)\n",
    "num_train_steps = int(epochs * steps_per_epoch)\n",
    "logger.info(f'Number of steps per epoch: {steps_per_epoch}')\n",
    "logger.info(f'Number of training steps: {num_train_steps}')"
   ]
  },
  {
   "cell_type": "markdown",
   "metadata": {},
   "source": [
    "## 4. Training Loop"
   ]
  },
  {
   "cell_type": "code",
   "execution_count": 6,
   "metadata": {},
   "outputs": [
    {
     "data": {
      "application/vnd.jupyter.widget-view+json": {
       "model_id": "9a4ba07326a0462682c802f15f1feeec",
       "version_major": 2,
       "version_minor": 0
      },
      "text/plain": [
       "Epoch:   0%|          | 0/8 [00:00<?, ?it/s]"
      ]
     },
     "metadata": {},
     "output_type": "display_data"
    },
    {
     "name": "stdout",
     "output_type": "stream",
     "text": [
      "\u001b[36;1m\u001b[1;3m> [Epoch 0] Current loss: 2.225245475769043\n",
      "\u001b[0m\u001b[36;1m\u001b[1;3m> [Epoch 0] Current loss: 2.0849952697753906\n",
      "\u001b[0m\u001b[36;1m\u001b[1;3m> [Epoch 0] Current loss: 1.936782956123352\n",
      "\u001b[0m\u001b[36;1m\u001b[1;3m> [Epoch 0] Current loss: 2.226872444152832\n",
      "\u001b[0m\u001b[36;1m\u001b[1;3m> [Epoch 0] Current loss: 1.6999047994613647\n",
      "\u001b[0m\u001b[36;1m\u001b[1;3m> [Epoch 0] Current loss: 1.7819148302078247\n",
      "\u001b[0m\u001b[36;1m\u001b[1;3m> [Epoch 0] Current loss: 0.21449601650238037\n",
      "\u001b[0m"
     ]
    },
    {
     "name": "stderr",
     "output_type": "stream",
     "text": [
      "2023-09-17 12:03:16,588 - src.logger - INFO - **MSP: Num topk: 179, total: 198\n",
      "2023-09-17 12:03:45,297 - src.logger - INFO - **MSP: Num topk: 155, total: 204\n",
      "2023-09-17 12:03:45,297 - src.logger - INFO - Epoch 0 train loss: 10.1374\n",
      "2023-09-17 12:03:45,298 - src.logger - INFO - Epoch 0 val loss: 14.1295\n",
      "2023-09-17 12:03:45,298 - src.logger - INFO - Epoch 0 train acc: 0.7576\n",
      "2023-09-17 12:03:45,298 - src.logger - INFO - Epoch 0 val acc: 0.4216\n",
      "2023-09-17 12:03:45,298 - src.logger - INFO - Epoch 0 train top2: 0.9040\n",
      "2023-09-17 12:03:45,298 - src.logger - INFO - Epoch 0 val top2: 0.7598\n"
     ]
    },
    {
     "name": "stdout",
     "output_type": "stream",
     "text": [
      "\u001b[36;1m\u001b[1;3m> [Epoch 1] Current loss: 1.4815399646759033\n",
      "\u001b[0m\u001b[36;1m\u001b[1;3m> [Epoch 1] Current loss: 1.5802593231201172\n",
      "\u001b[0m\u001b[36;1m\u001b[1;3m> [Epoch 1] Current loss: 1.6123963594436646\n",
      "\u001b[0m\u001b[36;1m\u001b[1;3m> [Epoch 1] Current loss: 1.5112159252166748\n",
      "\u001b[0m\u001b[36;1m\u001b[1;3m> [Epoch 1] Current loss: 1.5986318588256836\n",
      "\u001b[0m\u001b[36;1m\u001b[1;3m> [Epoch 1] Current loss: 1.2364214658737183\n",
      "\u001b[0m\u001b[36;1m\u001b[1;3m> [Epoch 1] Current loss: 0.30965933203697205\n",
      "\u001b[0m"
     ]
    },
    {
     "name": "stderr",
     "output_type": "stream",
     "text": [
      "2023-09-17 12:06:27,201 - src.logger - INFO - **MSP: Num topk: 187, total: 198\n",
      "2023-09-17 12:06:55,499 - src.logger - INFO - **MSP: Num topk: 154, total: 204\n",
      "2023-09-17 12:06:55,500 - src.logger - INFO - Epoch 1 train loss: 7.5985\n",
      "2023-09-17 12:06:55,500 - src.logger - INFO - Epoch 1 val loss: 13.3333\n",
      "2023-09-17 12:06:55,500 - src.logger - INFO - Epoch 1 train acc: 0.7828\n",
      "2023-09-17 12:06:55,501 - src.logger - INFO - Epoch 1 val acc: 0.4314\n",
      "2023-09-17 12:06:55,501 - src.logger - INFO - Epoch 1 train top2: 0.9444\n",
      "2023-09-17 12:06:55,501 - src.logger - INFO - Epoch 1 val top2: 0.7549\n"
     ]
    },
    {
     "name": "stdout",
     "output_type": "stream",
     "text": [
      "\u001b[36;1m\u001b[1;3m> [Epoch 2] Current loss: 1.452121376991272\n",
      "\u001b[0m\u001b[36;1m\u001b[1;3m> [Epoch 2] Current loss: 1.2540125846862793\n",
      "\u001b[0m\u001b[36;1m\u001b[1;3m> [Epoch 2] Current loss: 1.3020905256271362\n",
      "\u001b[0m\u001b[36;1m\u001b[1;3m> [Epoch 2] Current loss: 1.2142542600631714\n",
      "\u001b[0m\u001b[36;1m\u001b[1;3m> [Epoch 2] Current loss: 1.1839805841445923\n",
      "\u001b[0m\u001b[36;1m\u001b[1;3m> [Epoch 2] Current loss: 0.9008428454399109\n",
      "\u001b[0m\u001b[36;1m\u001b[1;3m> [Epoch 2] Current loss: 0.3479844033718109\n",
      "\u001b[0m"
     ]
    },
    {
     "name": "stderr",
     "output_type": "stream",
     "text": [
      "2023-09-17 12:09:43,340 - src.logger - INFO - **MSP: Num topk: 190, total: 198\n",
      "2023-09-17 12:10:11,459 - src.logger - INFO - **MSP: Num topk: 159, total: 204\n",
      "2023-09-17 12:10:11,460 - src.logger - INFO - Epoch 2 train loss: 6.3902\n",
      "2023-09-17 12:10:11,460 - src.logger - INFO - Epoch 2 val loss: 12.7648\n",
      "2023-09-17 12:10:11,461 - src.logger - INFO - Epoch 2 train acc: 0.8283\n",
      "2023-09-17 12:10:11,461 - src.logger - INFO - Epoch 2 val acc: 0.4363\n",
      "2023-09-17 12:10:11,461 - src.logger - INFO - Epoch 2 train top2: 0.9596\n",
      "2023-09-17 12:10:11,461 - src.logger - INFO - Epoch 2 val top2: 0.7794\n"
     ]
    },
    {
     "name": "stdout",
     "output_type": "stream",
     "text": [
      "\u001b[36;1m\u001b[1;3m> [Epoch 3] Current loss: 0.9148919582366943\n",
      "\u001b[0m\u001b[36;1m\u001b[1;3m> [Epoch 3] Current loss: 0.9687853455543518\n",
      "\u001b[0m\u001b[36;1m\u001b[1;3m> [Epoch 3] Current loss: 1.0518913269042969\n",
      "\u001b[0m\u001b[36;1m\u001b[1;3m> [Epoch 3] Current loss: 0.9524091482162476\n",
      "\u001b[0m\u001b[36;1m\u001b[1;3m> [Epoch 3] Current loss: 1.2116895914077759\n",
      "\u001b[0m\u001b[36;1m\u001b[1;3m> [Epoch 3] Current loss: 0.9719576835632324\n",
      "\u001b[0m\u001b[36;1m\u001b[1;3m> [Epoch 3] Current loss: 0.18263258039951324\n",
      "\u001b[0m"
     ]
    },
    {
     "name": "stderr",
     "output_type": "stream",
     "text": [
      "2023-09-17 12:18:03,040 - src.logger - INFO - **MSP: Num topk: 193, total: 198\n",
      "2023-09-17 12:18:29,974 - src.logger - INFO - **MSP: Num topk: 158, total: 204\n",
      "2023-09-17 12:18:29,974 - src.logger - INFO - Epoch 3 train loss: 5.4062\n",
      "2023-09-17 12:18:29,975 - src.logger - INFO - Epoch 3 val loss: 12.4385\n",
      "2023-09-17 12:18:29,975 - src.logger - INFO - Epoch 3 train acc: 0.8889\n",
      "2023-09-17 12:18:29,975 - src.logger - INFO - Epoch 3 val acc: 0.4265\n",
      "2023-09-17 12:18:29,975 - src.logger - INFO - Epoch 3 train top2: 0.9747\n",
      "2023-09-17 12:18:29,976 - src.logger - INFO - Epoch 3 val top2: 0.7745\n"
     ]
    },
    {
     "name": "stdout",
     "output_type": "stream",
     "text": [
      "\u001b[36;1m\u001b[1;3m> [Epoch 4] Current loss: 0.9235138893127441\n",
      "\u001b[0m\u001b[36;1m\u001b[1;3m> [Epoch 4] Current loss: 0.8729078769683838\n",
      "\u001b[0m\u001b[36;1m\u001b[1;3m> [Epoch 4] Current loss: 0.7304924726486206\n",
      "\u001b[0m\u001b[36;1m\u001b[1;3m> [Epoch 4] Current loss: 0.875950813293457\n",
      "\u001b[0m\u001b[36;1m\u001b[1;3m> [Epoch 4] Current loss: 0.7505472302436829\n",
      "\u001b[0m\u001b[36;1m\u001b[1;3m> [Epoch 4] Current loss: 0.9679754972457886\n",
      "\u001b[0m\u001b[36;1m\u001b[1;3m> [Epoch 4] Current loss: 0.23079527914524078\n",
      "\u001b[0m"
     ]
    },
    {
     "name": "stderr",
     "output_type": "stream",
     "text": [
      "2023-09-17 12:36:49,038 - src.logger - INFO - **MSP: Num topk: 193, total: 198\n",
      "2023-09-17 12:38:04,601 - src.logger - INFO - **MSP: Num topk: 154, total: 204\n",
      "2023-09-17 12:38:04,601 - src.logger - INFO - Epoch 4 train loss: 5.1190\n",
      "2023-09-17 12:38:04,602 - src.logger - INFO - Epoch 4 val loss: 12.1957\n",
      "2023-09-17 12:38:04,602 - src.logger - INFO - Epoch 4 train acc: 0.8485\n",
      "2023-09-17 12:38:04,602 - src.logger - INFO - Epoch 4 val acc: 0.4216\n",
      "2023-09-17 12:38:04,602 - src.logger - INFO - Epoch 4 train top2: 0.9747\n",
      "2023-09-17 12:38:04,603 - src.logger - INFO - Epoch 4 val top2: 0.7549\n"
     ]
    },
    {
     "name": "stdout",
     "output_type": "stream",
     "text": [
      "\u001b[36;1m\u001b[1;3m> [Epoch 5] Current loss: 0.7947784662246704\n",
      "\u001b[0m\u001b[36;1m\u001b[1;3m> [Epoch 5] Current loss: 0.6052149534225464\n",
      "\u001b[0m\u001b[36;1m\u001b[1;3m> [Epoch 5] Current loss: 0.9055888056755066\n",
      "\u001b[0m\u001b[36;1m\u001b[1;3m> [Epoch 5] Current loss: 0.8183773159980774\n",
      "\u001b[0m\u001b[36;1m\u001b[1;3m> [Epoch 5] Current loss: 0.7694773077964783\n",
      "\u001b[0m\u001b[36;1m\u001b[1;3m> [Epoch 5] Current loss: 0.6609117388725281\n",
      "\u001b[0m\u001b[36;1m\u001b[1;3m> [Epoch 5] Current loss: 0.17004455626010895\n",
      "\u001b[0m"
     ]
    },
    {
     "name": "stderr",
     "output_type": "stream",
     "text": [
      "2023-09-17 12:43:21,915 - src.logger - INFO - **MSP: Num topk: 197, total: 198\n",
      "2023-09-17 12:43:48,526 - src.logger - INFO - **MSP: Num topk: 158, total: 204\n",
      "2023-09-17 12:43:48,526 - src.logger - INFO - Epoch 5 train loss: 4.7988\n",
      "2023-09-17 12:43:48,526 - src.logger - INFO - Epoch 5 val loss: 12.0035\n",
      "2023-09-17 12:43:48,526 - src.logger - INFO - Epoch 5 train acc: 0.9040\n",
      "2023-09-17 12:43:48,527 - src.logger - INFO - Epoch 5 val acc: 0.4265\n",
      "2023-09-17 12:43:48,527 - src.logger - INFO - Epoch 5 train top2: 0.9949\n",
      "2023-09-17 12:43:48,527 - src.logger - INFO - Epoch 5 val top2: 0.7745\n"
     ]
    },
    {
     "name": "stdout",
     "output_type": "stream",
     "text": [
      "\u001b[36;1m\u001b[1;3m> [Epoch 6] Current loss: 0.623045802116394\n",
      "\u001b[0m\u001b[36;1m\u001b[1;3m> [Epoch 6] Current loss: 0.7132888436317444\n",
      "\u001b[0m\u001b[36;1m\u001b[1;3m> [Epoch 6] Current loss: 0.6590090990066528\n",
      "\u001b[0m\u001b[36;1m\u001b[1;3m> [Epoch 6] Current loss: 0.750653088092804\n",
      "\u001b[0m\u001b[36;1m\u001b[1;3m> [Epoch 6] Current loss: 0.6539050340652466\n",
      "\u001b[0m\u001b[36;1m\u001b[1;3m> [Epoch 6] Current loss: 0.6757723689079285\n",
      "\u001b[0m\u001b[36;1m\u001b[1;3m> [Epoch 6] Current loss: 0.1368456333875656\n",
      "\u001b[0m"
     ]
    },
    {
     "name": "stderr",
     "output_type": "stream",
     "text": [
      "2023-09-17 12:46:28,678 - src.logger - INFO - **MSP: Num topk: 198, total: 198\n",
      "2023-09-17 12:46:58,500 - src.logger - INFO - **MSP: Num topk: 156, total: 204\n",
      "2023-09-17 12:46:58,500 - src.logger - INFO - Epoch 6 train loss: 3.9404\n",
      "2023-09-17 12:46:58,500 - src.logger - INFO - Epoch 6 val loss: 11.9608\n",
      "2023-09-17 12:46:58,501 - src.logger - INFO - Epoch 6 train acc: 0.8939\n",
      "2023-09-17 12:46:58,501 - src.logger - INFO - Epoch 6 val acc: 0.4167\n",
      "2023-09-17 12:46:58,501 - src.logger - INFO - Epoch 6 train top2: 1.0000\n",
      "2023-09-17 12:46:58,501 - src.logger - INFO - Epoch 6 val top2: 0.7647\n"
     ]
    },
    {
     "name": "stdout",
     "output_type": "stream",
     "text": [
      "\u001b[36;1m\u001b[1;3m> [Epoch 7] Current loss: 0.609352707862854\n",
      "\u001b[0m\u001b[36;1m\u001b[1;3m> [Epoch 7] Current loss: 0.5639241337776184\n",
      "\u001b[0m\u001b[36;1m\u001b[1;3m> [Epoch 7] Current loss: 0.5620526075363159\n",
      "\u001b[0m\u001b[36;1m\u001b[1;3m> [Epoch 7] Current loss: 0.6034680604934692\n",
      "\u001b[0m\u001b[36;1m\u001b[1;3m> [Epoch 7] Current loss: 0.7236881256103516\n",
      "\u001b[0m\u001b[36;1m\u001b[1;3m> [Epoch 7] Current loss: 0.6618571877479553\n",
      "\u001b[0m\u001b[36;1m\u001b[1;3m> [Epoch 7] Current loss: 0.10093598812818527\n",
      "\u001b[0m"
     ]
    },
    {
     "name": "stderr",
     "output_type": "stream",
     "text": [
      "2023-09-17 12:49:42,152 - src.logger - INFO - **MSP: Num topk: 197, total: 198\n",
      "2023-09-17 12:50:09,741 - src.logger - INFO - **MSP: Num topk: 156, total: 204\n",
      "2023-09-17 12:50:09,741 - src.logger - INFO - Epoch 7 train loss: 3.3600\n",
      "2023-09-17 12:50:09,742 - src.logger - INFO - Epoch 7 val loss: 11.8968\n",
      "2023-09-17 12:50:09,742 - src.logger - INFO - Epoch 7 train acc: 0.8990\n",
      "2023-09-17 12:50:09,742 - src.logger - INFO - Epoch 7 val acc: 0.4167\n",
      "2023-09-17 12:50:09,742 - src.logger - INFO - Epoch 7 train top2: 0.9949\n",
      "2023-09-17 12:50:09,743 - src.logger - INFO - Epoch 7 val top2: 0.7647\n"
     ]
    }
   ],
   "source": [
    "from tqdm.autonotebook import trange\n",
    "from llama_index.bridge.langchain import print_text\n",
    "\n",
    "global_step = 0\n",
    "lst_train_loss = []\n",
    "lst_val_loss = []\n",
    "lst_train_acc = []\n",
    "lst_val_acc = []\n",
    "lst_train_top2 = []\n",
    "lst_val_top2 = []\n",
    "\n",
    "for epoch in trange(epochs, desc=\"Epoch\"):\n",
    "\n",
    "    loss_function.zero_grad()\n",
    "    loss_function.train()\n",
    "    data_iterator = iter(data_loader)\n",
    "    for query, context in data_iterator:\n",
    "\n",
    "\n",
    "        loss_value = loss_function(query, context)\n",
    "        loss_value.backward()\n",
    "        print_text(f\"> [Epoch {epoch}] Current loss: {loss_value}\\n\", color=\"blue\")\n",
    "        \n",
    "        opt.step()\n",
    "        opt.zero_grad()\n",
    "\n",
    "    loss_function.eval()\n",
    "\n",
    "    train_loss = sum([loss_function(q,e) for q,e in data_loader])\n",
    "    val_loss = sum([loss_function(q,e) for q,e in data_loader_validate])\n",
    "    train_acc = loss_function.accuracy(data_loader)\n",
    "    val_acc = loss_function.accuracy(data_loader_validate)\n",
    "    train_top2 = loss_function.topk(data_loader)\n",
    "    val_top2 = loss_function.topk(data_loader_validate)\n",
    "\n",
    "    lst_train_loss.append(train_loss.item())\n",
    "    lst_val_loss.append(val_loss.item())\n",
    "    lst_train_acc.append(train_acc)\n",
    "    lst_val_acc.append(val_acc)\n",
    "    lst_train_top2.append(train_top2)\n",
    "    lst_val_top2.append(val_top2)\n",
    "\n",
    "    logger.info(f\"Epoch {epoch} train loss: {train_loss:.4f}\")\n",
    "    logger.info(f\"Epoch {epoch} val loss: {val_loss:.4f}\")\n",
    "    logger.info(f\"Epoch {epoch} train acc: {train_acc:.4f}\")\n",
    "    logger.info(f\"Epoch {epoch} val acc: {val_acc:.4f}\")\n",
    "    logger.info(f\"Epoch {epoch} train top2: {train_top2:.4f}\")\n",
    "    logger.info(f\"Epoch {epoch} val top2: {val_top2:.4f}\")"
   ]
  },
  {
   "cell_type": "markdown",
   "metadata": {},
   "source": [
    "## 5. Performance"
   ]
  },
  {
   "cell_type": "code",
   "execution_count": 21,
   "metadata": {},
   "outputs": [],
   "source": [
    "import matplotlib.pyplot as plt\n",
    "x = list(range(1, epochs+1))"
   ]
  },
  {
   "cell_type": "code",
   "execution_count": 22,
   "metadata": {},
   "outputs": [
    {
     "data": {
      "image/png": "[encoded data removed]",
      "text/plain": [
       "<Figure size 640x480 with 1 Axes>"
      ]
     },
     "metadata": {},
     "output_type": "display_data"
    }
   ],
   "source": [
    "plt.plot(x, lst_train_loss, 'o-', label='train loss')\n",
    "plt.plot(x, lst_val_loss, 'o-',label='val loss')\n",
    "plt.legend()\n",
    "plt.show()"
   ]
  },
  {
   "cell_type": "code",
   "execution_count": 23,
   "metadata": {},
   "outputs": [
    {
     "data": {
      "image/png": "[encoded data removed]",
      "text/plain": [
       "<Figure size 640x480 with 1 Axes>"
      ]
     },
     "metadata": {},
     "output_type": "display_data"
    }
   ],
   "source": [
    "plt.plot(x, lst_train_acc, 'o-', color='blue', label='train acc')\n",
    "plt.plot(x, lst_train_top2, '-', color='blue', label='train top2')\n",
    "plt.plot(x, lst_val_acc,  'o-', color='red', label='val acc')\n",
    "plt.plot(x, lst_val_top2,  '-', color='red', label='val top2')\n",
    "plt.legend()\n",
    "plt.show()"
   ]
  },
  {
   "cell_type": "code",
   "execution_count": null,
   "metadata": {},
   "outputs": [],
   "source": []
  }
 ],
 "metadata": {
  "kernelspec": {
   "display_name": "hf2",
   "language": "python",
   "name": "hf2"
  },
  "language_info": {
   "codemirror_mode": {
    "name": "ipython",
    "version": 3
   },
   "file_extension": ".py",
   "mimetype": "text/x-python",
   "name": "python",
   "nbconvert_exporter": "python",
   "pygments_lexer": "ipython3",
   "version": "3.11.5"
  },
  "orig_nbformat": 4
 },
 "nbformat": 4,
 "nbformat_minor": 2
}
