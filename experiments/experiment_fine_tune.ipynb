{
 "cells": [
  {
   "cell_type": "markdown",
   "metadata": {},
   "source": [
    "Sept 9, 2023: finetuning my own adapter using llama_index code"
   ]
  },
  {
   "cell_type": "code",
   "execution_count": 1,
   "metadata": {},
   "outputs": [],
   "source": [
    "import sys\n",
    "sys.path.append('../')\n",
    "%load_ext autoreload\n",
    "%autoreload 2\n",
    "from src.logger import logger"
   ]
  },
  {
   "cell_type": "markdown",
   "metadata": {},
   "source": [
    "## 1. Load base embedding model; use Helper fns for adapter model, loss, optimizer\n",
    "- For the adapter, we use a linear model created using the nn.Module class.  There are 3 functions (get_config_dict, save and load) that is less typically, but allows one to save the adapter for later use.\n",
    "- The loss function also uses the nn.Module class, which allows a simpler application of the adapter.  However, this could be done in alternative methods."
   ]
  },
  {
   "cell_type": "code",
   "execution_count": 2,
   "metadata": {},
   "outputs": [],
   "source": [
    "from llama_index.embeddings import resolve_embed_model\n",
    "from src.adapter import LinearModel, LossFunction, optimizer\n",
    "embed_model = resolve_embed_model(\"local:BAAI/bge-small-en\")\n",
    "adapter = LinearModel(embed_model=embed_model)\n",
    "device='cpu'\n",
    "#device='mps'\n",
    "loss_function = LossFunction(model=adapter, device=device)\n",
    "opt = optimizer(model=adapter, lr=1e-3)"
   ]
  },
  {
   "cell_type": "markdown",
   "metadata": {},
   "source": [
    "## 2. Create a Dataset and a DataLoader\n",
    "This is done in the fairly standard way.  The only step to note is that the collate function converts the text into embeddings using the embedding model, so the partial function is needed."
   ]
  },
  {
   "cell_type": "code",
   "execution_count": 3,
   "metadata": {},
   "outputs": [],
   "source": [
    "from llama_index.finetuning import EmbeddingQAFinetuneDataset\n",
    "from torch.utils.data import DataLoader\n",
    "from src.adapter import data_to_dataset, collate_fn\n",
    "from functools import partial"
   ]
  },
  {
   "cell_type": "code",
   "execution_count": 4,
   "metadata": {},
   "outputs": [
    {
     "name": "stderr",
     "output_type": "stream",
     "text": [
      "2023-09-17 13:04:10,338 - src.logger - INFO - **MSP: Number of examples: 198\n",
      "2023-09-17 13:04:10,339 - src.logger - INFO - **MSP: Number of examples: 204\n"
     ]
    }
   ],
   "source": [
    "data = EmbeddingQAFinetuneDataset.from_json(\"../data/train_dataset.json\")\n",
    "data_validate = EmbeddingQAFinetuneDataset.from_json(\"../data/val_dataset.json\")\n",
    "dataset = data_to_dataset(data)\n",
    "dataset_validate = data_to_dataset(data_validate)\n",
    "collate_fn_ = partial(collate_fn, embed_model=embed_model)\n",
    "data_loader = DataLoader(dataset, batch_size=32, collate_fn=collate_fn_, shuffle=True)\n",
    "data_loader_validate = DataLoader(dataset_validate, batch_size=32, collate_fn=collate_fn_, shuffle=False)"
   ]
  },
  {
   "cell_type": "markdown",
   "metadata": {},
   "source": [
    "## 3. Set up parameters for Training"
   ]
  },
  {
   "cell_type": "code",
   "execution_count": 5,
   "metadata": {},
   "outputs": [
    {
     "name": "stderr",
     "output_type": "stream",
     "text": [
      "2023-09-17 13:04:10,398 - src.logger - INFO - Number of steps per epoch: 7\n",
      "2023-09-17 13:04:10,399 - src.logger - INFO - Number of training steps: 56\n"
     ]
    }
   ],
   "source": [
    "adapter.to(device)\n",
    "loss_function.to(device)\n",
    "epochs = 8\n",
    "steps_per_epoch = len(data_loader)\n",
    "num_train_steps = int(epochs * steps_per_epoch)\n",
    "logger.info(f'Number of steps per epoch: {steps_per_epoch}')\n",
    "logger.info(f'Number of training steps: {num_train_steps}')"
   ]
  },
  {
   "cell_type": "markdown",
   "metadata": {},
   "source": [
    "## 4. Training Loop"
   ]
  },
  {
   "cell_type": "code",
   "execution_count": 6,
   "metadata": {},
   "outputs": [
    {
     "data": {
      "application/vnd.jupyter.widget-view+json": {
       "model_id": "e94922da804442f79a298dad97a2fcbb",
       "version_major": 2,
       "version_minor": 0
      },
      "text/plain": [
       "Epoch:   0%|          | 0/8 [00:00<?, ?it/s]"
      ]
     },
     "metadata": {},
     "output_type": "display_data"
    },
    {
     "name": "stdout",
     "output_type": "stream",
     "text": [
      "\u001b[36;1m\u001b[1;3m> [Epoch 0] Current loss: 2.253431558609009\n",
      "\u001b[0m\u001b[36;1m\u001b[1;3m> [Epoch 0] Current loss: 2.0672128200531006\n",
      "\u001b[0m\u001b[36;1m\u001b[1;3m> [Epoch 0] Current loss: 1.8571759462356567\n",
      "\u001b[0m\u001b[36;1m\u001b[1;3m> [Epoch 0] Current loss: 1.9351911544799805\n",
      "\u001b[0m\u001b[36;1m\u001b[1;3m> [Epoch 0] Current loss: 1.834742784500122\n",
      "\u001b[0m\u001b[36;1m\u001b[1;3m> [Epoch 0] Current loss: 1.692406415939331\n",
      "\u001b[0m\u001b[36;1m\u001b[1;3m> [Epoch 0] Current loss: 1.0663012266159058\n",
      "\u001b[0m"
     ]
    },
    {
     "name": "stderr",
     "output_type": "stream",
     "text": [
      "2023-09-17 13:08:58,519 - src.logger - INFO - Epoch 0 train loss: 10.2493\n",
      "2023-09-17 13:08:58,520 - src.logger - INFO - Epoch 0 val loss: 14.1755\n",
      "2023-09-17 13:08:58,520 - src.logger - INFO - Epoch 0 train acc: 0.7828\n",
      "2023-09-17 13:08:58,520 - src.logger - INFO - Epoch 0 val acc: 0.4363\n",
      "2023-09-17 13:08:58,520 - src.logger - INFO - Epoch 0 train top2: 0.8990\n",
      "2023-09-17 13:08:58,520 - src.logger - INFO - Epoch 0 val top2: 0.7647\n"
     ]
    },
    {
     "name": "stdout",
     "output_type": "stream",
     "text": [
      "\u001b[36;1m\u001b[1;3m> [Epoch 1] Current loss: 1.534096598625183\n",
      "\u001b[0m\u001b[36;1m\u001b[1;3m> [Epoch 1] Current loss: 1.8350330591201782\n",
      "\u001b[0m\u001b[36;1m\u001b[1;3m> [Epoch 1] Current loss: 1.391573190689087\n",
      "\u001b[0m\u001b[36;1m\u001b[1;3m> [Epoch 1] Current loss: 1.4553757905960083\n",
      "\u001b[0m\u001b[36;1m\u001b[1;3m> [Epoch 1] Current loss: 1.370334506034851\n",
      "\u001b[0m\u001b[36;1m\u001b[1;3m> [Epoch 1] Current loss: 1.3472861051559448\n",
      "\u001b[0m\u001b[36;1m\u001b[1;3m> [Epoch 1] Current loss: 0.49824264645576477\n",
      "\u001b[0m"
     ]
    },
    {
     "name": "stderr",
     "output_type": "stream",
     "text": [
      "2023-09-17 13:12:04,330 - src.logger - INFO - Epoch 1 train loss: 8.2132\n",
      "2023-09-17 13:12:04,330 - src.logger - INFO - Epoch 1 val loss: 13.4065\n",
      "2023-09-17 13:12:04,331 - src.logger - INFO - Epoch 1 train acc: 0.8030\n",
      "2023-09-17 13:12:04,331 - src.logger - INFO - Epoch 1 val acc: 0.4363\n",
      "2023-09-17 13:12:04,331 - src.logger - INFO - Epoch 1 train top2: 0.9242\n",
      "2023-09-17 13:12:04,331 - src.logger - INFO - Epoch 1 val top2: 0.7647\n"
     ]
    },
    {
     "name": "stdout",
     "output_type": "stream",
     "text": [
      "\u001b[36;1m\u001b[1;3m> [Epoch 2] Current loss: 1.1350276470184326\n",
      "\u001b[0m\u001b[36;1m\u001b[1;3m> [Epoch 2] Current loss: 1.299754023551941\n",
      "\u001b[0m\u001b[36;1m\u001b[1;3m> [Epoch 2] Current loss: 1.3014869689941406\n",
      "\u001b[0m\u001b[36;1m\u001b[1;3m> [Epoch 2] Current loss: 1.2366515398025513\n",
      "\u001b[0m\u001b[36;1m\u001b[1;3m> [Epoch 2] Current loss: 1.2049376964569092\n",
      "\u001b[0m\u001b[36;1m\u001b[1;3m> [Epoch 2] Current loss: 0.9717578291893005\n",
      "\u001b[0m\u001b[36;1m\u001b[1;3m> [Epoch 2] Current loss: 0.28100889921188354\n",
      "\u001b[0m"
     ]
    },
    {
     "name": "stderr",
     "output_type": "stream",
     "text": [
      "2023-09-17 13:15:08,444 - src.logger - INFO - Epoch 2 train loss: 6.5618\n",
      "2023-09-17 13:15:08,444 - src.logger - INFO - Epoch 2 val loss: 12.8465\n",
      "2023-09-17 13:15:08,444 - src.logger - INFO - Epoch 2 train acc: 0.8485\n",
      "2023-09-17 13:15:08,445 - src.logger - INFO - Epoch 2 val acc: 0.4314\n",
      "2023-09-17 13:15:08,445 - src.logger - INFO - Epoch 2 train top2: 0.9596\n",
      "2023-09-17 13:15:08,445 - src.logger - INFO - Epoch 2 val top2: 0.7647\n"
     ]
    },
    {
     "name": "stdout",
     "output_type": "stream",
     "text": [
      "\u001b[36;1m\u001b[1;3m> [Epoch 3] Current loss: 1.071411371231079\n",
      "\u001b[0m\u001b[36;1m\u001b[1;3m> [Epoch 3] Current loss: 1.0222755670547485\n",
      "\u001b[0m\u001b[36;1m\u001b[1;3m> [Epoch 3] Current loss: 0.9441150426864624\n",
      "\u001b[0m\u001b[36;1m\u001b[1;3m> [Epoch 3] Current loss: 0.9400334358215332\n",
      "\u001b[0m\u001b[36;1m\u001b[1;3m> [Epoch 3] Current loss: 0.9538522362709045\n",
      "\u001b[0m\u001b[36;1m\u001b[1;3m> [Epoch 3] Current loss: 1.1783583164215088\n",
      "\u001b[0m\u001b[36;1m\u001b[1;3m> [Epoch 3] Current loss: 0.2680402100086212\n",
      "\u001b[0m"
     ]
    },
    {
     "name": "stderr",
     "output_type": "stream",
     "text": [
      "2023-09-17 13:18:16,541 - src.logger - INFO - Epoch 3 train loss: 6.0409\n",
      "2023-09-17 13:18:16,541 - src.logger - INFO - Epoch 3 val loss: 12.4533\n",
      "2023-09-17 13:18:16,541 - src.logger - INFO - Epoch 3 train acc: 0.8232\n",
      "2023-09-17 13:18:16,542 - src.logger - INFO - Epoch 3 val acc: 0.4314\n",
      "2023-09-17 13:18:16,542 - src.logger - INFO - Epoch 3 train top2: 0.9697\n",
      "2023-09-17 13:18:16,542 - src.logger - INFO - Epoch 3 val top2: 0.7745\n"
     ]
    },
    {
     "name": "stdout",
     "output_type": "stream",
     "text": [
      "\u001b[36;1m\u001b[1;3m> [Epoch 4] Current loss: 0.8915044665336609\n",
      "\u001b[0m\u001b[36;1m\u001b[1;3m> [Epoch 4] Current loss: 0.8074014782905579\n",
      "\u001b[0m\u001b[36;1m\u001b[1;3m> [Epoch 4] Current loss: 0.8702660202980042\n",
      "\u001b[0m\u001b[36;1m\u001b[1;3m> [Epoch 4] Current loss: 0.9202234745025635\n",
      "\u001b[0m\u001b[36;1m\u001b[1;3m> [Epoch 4] Current loss: 1.1031086444854736\n",
      "\u001b[0m\u001b[36;1m\u001b[1;3m> [Epoch 4] Current loss: 0.8841409683227539\n",
      "\u001b[0m\u001b[36;1m\u001b[1;3m> [Epoch 4] Current loss: 0.2813877463340759\n",
      "\u001b[0m"
     ]
    },
    {
     "name": "stderr",
     "output_type": "stream",
     "text": [
      "2023-09-17 13:22:27,707 - src.logger - INFO - Epoch 4 train loss: 4.8042\n",
      "2023-09-17 13:22:27,707 - src.logger - INFO - Epoch 4 val loss: 12.2761\n",
      "2023-09-17 13:22:27,708 - src.logger - INFO - Epoch 4 train acc: 0.8737\n",
      "2023-09-17 13:22:27,708 - src.logger - INFO - Epoch 4 val acc: 0.4167\n",
      "2023-09-17 13:22:27,708 - src.logger - INFO - Epoch 4 train top2: 0.9949\n",
      "2023-09-17 13:22:27,708 - src.logger - INFO - Epoch 4 val top2: 0.7549\n"
     ]
    },
    {
     "name": "stdout",
     "output_type": "stream",
     "text": [
      "\u001b[36;1m\u001b[1;3m> [Epoch 5] Current loss: 0.8382015228271484\n",
      "\u001b[0m\u001b[36;1m\u001b[1;3m> [Epoch 5] Current loss: 0.8239295482635498\n",
      "\u001b[0m\u001b[36;1m\u001b[1;3m> [Epoch 5] Current loss: 0.6686861515045166\n",
      "\u001b[0m\u001b[36;1m\u001b[1;3m> [Epoch 5] Current loss: 0.846878707408905\n",
      "\u001b[0m\u001b[36;1m\u001b[1;3m> [Epoch 5] Current loss: 0.7772508859634399\n",
      "\u001b[0m\u001b[36;1m\u001b[1;3m> [Epoch 5] Current loss: 0.7429831027984619\n",
      "\u001b[0m\u001b[36;1m\u001b[1;3m> [Epoch 5] Current loss: 0.28968870639801025\n",
      "\u001b[0m"
     ]
    },
    {
     "name": "stderr",
     "output_type": "stream",
     "text": [
      "2023-09-17 13:26:46,166 - src.logger - INFO - Epoch 5 train loss: 4.2883\n",
      "2023-09-17 13:26:46,166 - src.logger - INFO - Epoch 5 val loss: 12.1090\n",
      "2023-09-17 13:26:46,167 - src.logger - INFO - Epoch 5 train acc: 0.8636\n",
      "2023-09-17 13:26:46,167 - src.logger - INFO - Epoch 5 val acc: 0.4265\n",
      "2023-09-17 13:26:46,167 - src.logger - INFO - Epoch 5 train top2: 0.9899\n",
      "2023-09-17 13:26:46,168 - src.logger - INFO - Epoch 5 val top2: 0.7598\n"
     ]
    },
    {
     "name": "stdout",
     "output_type": "stream",
     "text": [
      "\u001b[36;1m\u001b[1;3m> [Epoch 6] Current loss: 0.655660092830658\n",
      "\u001b[0m\u001b[36;1m\u001b[1;3m> [Epoch 6] Current loss: 0.6770262122154236\n",
      "\u001b[0m\u001b[36;1m\u001b[1;3m> [Epoch 6] Current loss: 0.630679190158844\n",
      "\u001b[0m\u001b[36;1m\u001b[1;3m> [Epoch 6] Current loss: 0.6315335631370544\n",
      "\u001b[0m\u001b[36;1m\u001b[1;3m> [Epoch 6] Current loss: 0.6443634033203125\n",
      "\u001b[0m\u001b[36;1m\u001b[1;3m> [Epoch 6] Current loss: 0.5990947484970093\n",
      "\u001b[0m\u001b[36;1m\u001b[1;3m> [Epoch 6] Current loss: 0.19634132087230682\n",
      "\u001b[0m"
     ]
    },
    {
     "name": "stderr",
     "output_type": "stream",
     "text": [
      "2023-09-17 13:31:30,124 - src.logger - INFO - Epoch 6 train loss: 3.6731\n",
      "2023-09-17 13:31:30,125 - src.logger - INFO - Epoch 6 val loss: 11.9703\n",
      "2023-09-17 13:31:30,125 - src.logger - INFO - Epoch 6 train acc: 0.8788\n",
      "2023-09-17 13:31:30,125 - src.logger - INFO - Epoch 6 val acc: 0.4216\n",
      "2023-09-17 13:31:30,125 - src.logger - INFO - Epoch 6 train top2: 0.9949\n",
      "2023-09-17 13:31:30,126 - src.logger - INFO - Epoch 6 val top2: 0.7794\n"
     ]
    },
    {
     "name": "stdout",
     "output_type": "stream",
     "text": [
      "\u001b[36;1m\u001b[1;3m> [Epoch 7] Current loss: 0.6250579953193665\n",
      "\u001b[0m\u001b[36;1m\u001b[1;3m> [Epoch 7] Current loss: 0.6899899244308472\n",
      "\u001b[0m\u001b[36;1m\u001b[1;3m> [Epoch 7] Current loss: 0.6150736212730408\n",
      "\u001b[0m\u001b[36;1m\u001b[1;3m> [Epoch 7] Current loss: 0.6521733403205872\n",
      "\u001b[0m\u001b[36;1m\u001b[1;3m> [Epoch 7] Current loss: 0.6379866003990173\n",
      "\u001b[0m\u001b[36;1m\u001b[1;3m> [Epoch 7] Current loss: 0.6149593591690063\n",
      "\u001b[0m\u001b[36;1m\u001b[1;3m> [Epoch 7] Current loss: 0.030857255682349205\n",
      "\u001b[0m"
     ]
    },
    {
     "name": "stderr",
     "output_type": "stream",
     "text": [
      "2023-09-17 13:36:17,561 - src.logger - INFO - Epoch 7 train loss: 3.5785\n",
      "2023-09-17 13:36:17,561 - src.logger - INFO - Epoch 7 val loss: 11.8926\n",
      "2023-09-17 13:36:17,562 - src.logger - INFO - Epoch 7 train acc: 0.9242\n",
      "2023-09-17 13:36:17,562 - src.logger - INFO - Epoch 7 val acc: 0.4216\n",
      "2023-09-17 13:36:17,562 - src.logger - INFO - Epoch 7 train top2: 1.0000\n",
      "2023-09-17 13:36:17,562 - src.logger - INFO - Epoch 7 val top2: 0.7696\n"
     ]
    }
   ],
   "source": [
    "from tqdm.autonotebook import trange\n",
    "from llama_index.bridge.langchain import print_text\n",
    "\n",
    "global_step = 0\n",
    "lst_train_loss = []\n",
    "lst_val_loss = []\n",
    "lst_train_acc = []\n",
    "lst_val_acc = []\n",
    "lst_train_top2 = []\n",
    "lst_val_top2 = []\n",
    "\n",
    "for epoch in trange(epochs, desc=\"Epoch\"):\n",
    "\n",
    "    loss_function.zero_grad()\n",
    "    loss_function.train()\n",
    "    data_iterator = iter(data_loader)\n",
    "    for query, context in data_iterator:\n",
    "\n",
    "\n",
    "        loss_value = loss_function(query, context)\n",
    "        loss_value.backward()\n",
    "        print_text(f\"> [Epoch {epoch}] Current loss: {loss_value}\\n\", color=\"blue\")\n",
    "        \n",
    "        opt.step()\n",
    "        opt.zero_grad()\n",
    "\n",
    "    loss_function.eval()\n",
    "\n",
    "    train_loss = sum([loss_function(q,e) for q,e in data_loader])\n",
    "    val_loss = sum([loss_function(q,e) for q,e in data_loader_validate])\n",
    "    train_acc = loss_function.accuracy(data_loader)\n",
    "    val_acc = loss_function.accuracy(data_loader_validate)\n",
    "    train_top2 = loss_function.topk(data_loader)\n",
    "    val_top2 = loss_function.topk(data_loader_validate)\n",
    "\n",
    "    lst_train_loss.append(train_loss.item())\n",
    "    lst_val_loss.append(val_loss.item())\n",
    "    lst_train_acc.append(train_acc)\n",
    "    lst_val_acc.append(val_acc)\n",
    "    lst_train_top2.append(train_top2)\n",
    "    lst_val_top2.append(val_top2)\n",
    "\n",
    "    logger.info(f\"Epoch {epoch} train loss: {train_loss:.4f}\")\n",
    "    logger.info(f\"Epoch {epoch} val loss: {val_loss:.4f}\")\n",
    "    logger.info(f\"Epoch {epoch} train acc: {train_acc:.4f}\")\n",
    "    logger.info(f\"Epoch {epoch} val acc: {val_acc:.4f}\")\n",
    "    logger.info(f\"Epoch {epoch} train top2: {train_top2:.4f}\")\n",
    "    logger.info(f\"Epoch {epoch} val top2: {val_top2:.4f}\")"
   ]
  },
  {
   "cell_type": "markdown",
   "metadata": {},
   "source": [
    "## 5. Performance"
   ]
  },
  {
   "cell_type": "code",
   "execution_count": 7,
   "metadata": {},
   "outputs": [],
   "source": [
    "import matplotlib.pyplot as plt\n",
    "x = list(range(1, epochs+1))"
   ]
  },
  {
   "cell_type": "code",
   "execution_count": 8,
   "metadata": {},
   "outputs": [
    {
     "data": {
      "image/png": "[encoded data removed]",
      "text/plain": [
       "<Figure size 640x480 with 1 Axes>"
      ]
     },
     "metadata": {},
     "output_type": "display_data"
    }
   ],
   "source": [
    "plt.plot(x, lst_train_loss, 'o-', label='train loss')\n",
    "plt.plot(x, lst_val_loss, 'o-',label='val loss')\n",
    "plt.legend()\n",
    "plt.show()"
   ]
  },
  {
   "cell_type": "code",
   "execution_count": 9,
   "metadata": {},
   "outputs": [
    {
     "data": {
      "image/png": "[encoded data removed]",
      "text/plain": [
       "<Figure size 640x480 with 1 Axes>"
      ]
     },
     "metadata": {},
     "output_type": "display_data"
    }
   ],
   "source": [
    "plt.plot(x, lst_train_acc, 'o-', color='blue', label='train acc')\n",
    "plt.plot(x, lst_train_top2, '-', color='blue', label='train top2')\n",
    "plt.plot(x, lst_val_acc,  'o-', color='red', label='val acc')\n",
    "plt.plot(x, lst_val_top2,  '-', color='red', label='val top2')\n",
    "plt.legend()\n",
    "plt.show()"
   ]
  },
  {
   "cell_type": "code",
   "execution_count": null,
   "metadata": {},
   "outputs": [],
   "source": []
  }
 ],
 "metadata": {
  "kernelspec": {
   "display_name": "hf2",
   "language": "python",
   "name": "hf2"
  },
  "language_info": {
   "codemirror_mode": {
    "name": "ipython",
    "version": 3
   },
   "file_extension": ".py",
   "mimetype": "text/x-python",
   "name": "python",
   "nbconvert_exporter": "python",
   "pygments_lexer": "ipython3",
   "version": "3.11.5"
  },
  "orig_nbformat": 4
 },
 "nbformat": 4,
 "nbformat_minor": 2
}
