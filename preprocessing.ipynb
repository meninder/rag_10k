{
 "cells": [
  {
   "cell_type": "code",
   "execution_count": 1,
   "metadata": {},
   "outputs": [],
   "source": [
    "%load_ext autoreload\n",
    "%autoreload 2"
   ]
  },
  {
   "cell_type": "code",
   "execution_count": 2,
   "metadata": {},
   "outputs": [],
   "source": [
    "from src.doc_processor_helper import get_all_data_paths, get_sub_documents\n",
    "from src.embedding_helper import EmbeddingHelper\n",
    "from src.opensearch import OpenSearchClient"
   ]
  },
  {
   "cell_type": "markdown",
   "metadata": {},
   "source": [
    "# Run One"
   ]
  },
  {
   "cell_type": "code",
   "execution_count": null,
   "metadata": {},
   "outputs": [],
   "source": [
    "## Get Data\n",
    "path_pdfs = get_all_data_paths()\n",
    "path_pdf = path_pdfs[2]\n",
    "sub_documents = get_sub_documents(path_pdf, chunk_size=1250, chunk_overlap=100)\n",
    "sub_documents = ['passage: '+ sd.page_content for sd in sub_documents]\n",
    "sub_documents = sub_documents[:300]"
   ]
  },
  {
   "cell_type": "code",
   "execution_count": null,
   "metadata": {},
   "outputs": [],
   "source": [
    "## Get Embeddings\n",
    "model_id='intfloat/e5-small-v2' # this model needs \"passge\" and \"query\" prepended to the text\n",
    "eh = EmbeddingHelper(model_id=model_id)\n",
    "embeddings_list = eh.get_embeddings_batch(sub_documents, chunk_size=10)"
   ]
  },
  {
   "cell_type": "code",
   "execution_count": null,
   "metadata": {},
   "outputs": [],
   "source": [
    "## Write to OpenSearch\n",
    "osc = OpenSearchClient(model_id=model_id)\n",
    "osc.create_index(overwrite=True)\n",
    "osc.index_documents(embeddings_list, sub_documents, filename=path_pdf.name)"
   ]
  },
  {
   "cell_type": "markdown",
   "metadata": {},
   "source": [
    "# Run Batch"
   ]
  },
  {
   "cell_type": "code",
   "execution_count": 3,
   "metadata": {},
   "outputs": [],
   "source": [
    "from pathlib import Path\n",
    "def write_embeddings(model_id:str, path_pdf:Path, osc:OpenSearchClient, prepend:bool):\n",
    "    sub_documents = get_sub_documents(path_pdf, chunk_size=1250, chunk_overlap=100)\n",
    "    if prepend:\n",
    "        sub_documents = ['passage: '+ sd.page_content for sd in sub_documents]\n",
    "    else:\n",
    "        sub_documents = [sd.page_content for sd in sub_documents]\n",
    "    sub_documents = sub_documents[:300]\n",
    "    eh = EmbeddingHelper(model_id=model_id)\n",
    "    embeddings_list = eh.get_embeddings_batch(sub_documents, chunk_size=10)\n",
    "    assert len(sub_documents)==len(embeddings_list), 'lengths do not match for '+str(path_pdf)\n",
    "    osc.index_documents(embeddings_list, sub_documents, filename=path_pdf.name)"
   ]
  },
  {
   "cell_type": "code",
   "execution_count": 4,
   "metadata": {},
   "outputs": [
    {
     "name": "stderr",
     "output_type": "stream",
     "text": [
      "2023-09-07 07:13:49,770 - src.logger - INFO - found 5 pdfs in /Users/meninderpurewal/My Drive/Mikey/Code/Retrieval/data\n",
      "2023-09-07 07:13:50,123 - src.logger - INFO - {'name': '87fee34ad386', 'cluster_name': 'docker-cluster', 'cluster_uuid': '-a_peNY5SsWnBbMYhkB_OA', 'version': {'distribution': 'opensearch', 'number': '2.6.0', 'build_type': 'tar', 'build_hash': '7203a5af21a8a009aece1474446b437a3c674db6', 'build_date': '2023-02-24T18:58:37.352296474Z', 'build_snapshot': False, 'lucene_version': '9.5.0', 'minimum_wire_compatibility_version': '7.10.0', 'minimum_index_compatibility_version': '7.0.0'}, 'tagline': 'The OpenSearch Project: https://opensearch.org/'}\n",
      "2023-09-07 07:13:50,125 - src.logger - INFO - Using index name intfloat-e5-small-v2-index\n",
      "2023-09-07 07:13:50,153 - src.logger - INFO - intfloat-e5-small-v2-index exists\n",
      "2023-09-07 07:13:50,212 - src.logger - INFO - deleted intfloat-e5-small-v2-index because it already existed\n",
      "2023-09-07 07:13:50,212 - src.logger - INFO - Now creating intfloat-e5-small-v2-index\n"
     ]
    },
    {
     "name": "stdout",
     "output_type": "stream",
     "text": [
      "Writing amazon_10k_2022.pdf to OpenSearch\n"
     ]
    },
    {
     "name": "stderr",
     "output_type": "stream",
     "text": [
      "2023-09-07 07:13:59,198 - src.logger - INFO - 1 doc inputted with 282140 chars.\n",
      "2023-09-07 07:13:59,199 - src.logger - INFO - 288 sub-docs created.\n",
      "2023-09-07 07:14:00,248 - src.logger - INFO - Loaded model intfloat/e5-small-v2\n",
      "2023-09-07 07:14:00,249 - src.logger - INFO - Getting embeddings for 288 texts\n",
      "100%|██████████| 288/288 [00:02<00:00, 136.64it/s]\n",
      "2023-09-07 07:14:28,623 - src.logger - INFO - Done\n",
      "2023-09-07 07:14:28,651 - src.logger - INFO - [{'epoch': '1694085268', 'timestamp': '11:14:28', 'count': '288'}]\n"
     ]
    },
    {
     "name": "stdout",
     "output_type": "stream",
     "text": [
      "Finished writing amazon_10k_2022.pdf to OpenSearch\n",
      "Writing google_10k_2022.pdf to OpenSearch\n"
     ]
    },
    {
     "name": "stderr",
     "output_type": "stream",
     "text": [
      "2023-09-07 07:14:33,919 - src.logger - INFO - 1 doc inputted with 334124 chars.\n",
      "2023-09-07 07:14:33,919 - src.logger - INFO - 341 sub-docs created.\n",
      "2023-09-07 07:14:34,281 - src.logger - INFO - Loaded model intfloat/e5-small-v2\n",
      "2023-09-07 07:14:34,281 - src.logger - INFO - Getting embeddings for 300 texts\n",
      "100%|██████████| 300/300 [00:01<00:00, 150.98it/s]\n",
      "2023-09-07 07:14:59,594 - src.logger - INFO - Done\n",
      "2023-09-07 07:14:59,621 - src.logger - INFO - [{'epoch': '1694085299', 'timestamp': '11:14:59', 'count': '588'}]\n"
     ]
    },
    {
     "name": "stdout",
     "output_type": "stream",
     "text": [
      "Finished writing google_10k_2022.pdf to OpenSearch\n",
      "Writing meta_10k_2022.pdf to OpenSearch\n"
     ]
    },
    {
     "name": "stderr",
     "output_type": "stream",
     "text": [
      "2023-09-07 07:15:12,301 - src.logger - INFO - 1 doc inputted with 490502 chars.\n",
      "2023-09-07 07:15:12,301 - src.logger - INFO - 540 sub-docs created.\n",
      "2023-09-07 07:15:12,660 - src.logger - INFO - Loaded model intfloat/e5-small-v2\n",
      "2023-09-07 07:15:12,661 - src.logger - INFO - Getting embeddings for 300 texts\n",
      "100%|██████████| 300/300 [00:01<00:00, 153.71it/s]\n",
      "2023-09-07 07:15:37,445 - src.logger - INFO - Done\n",
      "2023-09-07 07:15:37,476 - src.logger - INFO - [{'epoch': '1694085337', 'timestamp': '11:15:37', 'count': '888'}]\n"
     ]
    },
    {
     "name": "stdout",
     "output_type": "stream",
     "text": [
      "Finished writing meta_10k_2022.pdf to OpenSearch\n",
      "Writing tesla_10k_2022.pdf to OpenSearch\n"
     ]
    },
    {
     "name": "stderr",
     "output_type": "stream",
     "text": [
      "2023-09-07 07:16:03,695 - src.logger - INFO - 1 doc inputted with 868975 chars.\n",
      "2023-09-07 07:16:03,696 - src.logger - INFO - 926 sub-docs created.\n",
      "2023-09-07 07:16:04,140 - src.logger - INFO - Loaded model intfloat/e5-small-v2\n",
      "2023-09-07 07:16:04,141 - src.logger - INFO - Getting embeddings for 300 texts\n",
      "100%|██████████| 300/300 [00:02<00:00, 140.58it/s]\n",
      "2023-09-07 07:16:26,955 - src.logger - INFO - Done\n",
      "2023-09-07 07:16:26,989 - src.logger - INFO - [{'epoch': '1694085387', 'timestamp': '11:16:27', 'count': '1188'}]\n"
     ]
    },
    {
     "name": "stdout",
     "output_type": "stream",
     "text": [
      "Finished writing tesla_10k_2022.pdf to OpenSearch\n",
      "Writing apple_10k_2022.pdf to OpenSearch\n"
     ]
    },
    {
     "name": "stderr",
     "output_type": "stream",
     "text": [
      "2023-09-07 07:16:31,587 - src.logger - INFO - 1 doc inputted with 287558 chars.\n",
      "2023-09-07 07:16:31,587 - src.logger - INFO - 311 sub-docs created.\n",
      "2023-09-07 07:16:31,962 - src.logger - INFO - Loaded model intfloat/e5-small-v2\n",
      "2023-09-07 07:16:31,963 - src.logger - INFO - Getting embeddings for 300 texts\n",
      "100%|██████████| 300/300 [00:02<00:00, 110.07it/s]\n",
      "2023-09-07 07:16:59,993 - src.logger - INFO - Done\n",
      "2023-09-07 07:17:00,006 - src.logger - INFO - [{'epoch': '1694085420', 'timestamp': '11:17:00', 'count': '1488'}]\n"
     ]
    },
    {
     "name": "stdout",
     "output_type": "stream",
     "text": [
      "Finished writing apple_10k_2022.pdf to OpenSearch\n"
     ]
    }
   ],
   "source": [
    "model_id='intfloat/e5-small-v2' # this model needs \"passge\" and \"query\" prepended to the text\n",
    "path_pdfs = get_all_data_paths()\n",
    "osc = OpenSearchClient(model_id=model_id)\n",
    "osc.create_index(overwrite=True)\n",
    "for path_pdf in path_pdfs:\n",
    "    print(f'Writing {path_pdf.name} to OpenSearch')\n",
    "    write_embeddings(model_id, path_pdf, osc, prepend=True)\n",
    "    print(f'Finished writing {path_pdf.name} to OpenSearch')"
   ]
  },
  {
   "cell_type": "code",
   "execution_count": 5,
   "metadata": {},
   "outputs": [
    {
     "name": "stderr",
     "output_type": "stream",
     "text": [
      "2023-09-07 07:18:59,196 - src.logger - INFO - found 5 pdfs in /Users/meninderpurewal/My Drive/Mikey/Code/Retrieval/data\n",
      "2023-09-07 07:18:59,242 - src.logger - INFO - {'name': '87fee34ad386', 'cluster_name': 'docker-cluster', 'cluster_uuid': '-a_peNY5SsWnBbMYhkB_OA', 'version': {'distribution': 'opensearch', 'number': '2.6.0', 'build_type': 'tar', 'build_hash': '7203a5af21a8a009aece1474446b437a3c674db6', 'build_date': '2023-02-24T18:58:37.352296474Z', 'build_snapshot': False, 'lucene_version': '9.5.0', 'minimum_wire_compatibility_version': '7.10.0', 'minimum_index_compatibility_version': '7.0.0'}, 'tagline': 'The OpenSearch Project: https://opensearch.org/'}\n",
      "2023-09-07 07:18:59,243 - src.logger - INFO - Using index name thenlper-gte-small-index\n",
      "2023-09-07 07:18:59,250 - src.logger - INFO - thenlper-gte-small-index exists\n",
      "2023-09-07 07:18:59,287 - src.logger - INFO - deleted thenlper-gte-small-index because it already existed\n",
      "2023-09-07 07:18:59,287 - src.logger - INFO - Now creating thenlper-gte-small-index\n"
     ]
    },
    {
     "name": "stdout",
     "output_type": "stream",
     "text": [
      "Writing amazon_10k_2022.pdf to OpenSearch\n"
     ]
    },
    {
     "name": "stderr",
     "output_type": "stream",
     "text": [
      "2023-09-07 07:19:07,475 - src.logger - INFO - 1 doc inputted with 282140 chars.\n",
      "2023-09-07 07:19:07,476 - src.logger - INFO - 288 sub-docs created.\n",
      "2023-09-07 07:19:07,977 - src.logger - INFO - Loaded model thenlper/gte-small\n",
      "2023-09-07 07:19:07,978 - src.logger - INFO - Getting embeddings for 288 texts\n",
      "100%|██████████| 288/288 [00:02<00:00, 133.67it/s]\n",
      "2023-09-07 07:19:35,958 - src.logger - INFO - Done\n",
      "2023-09-07 07:19:35,995 - src.logger - INFO - [{'epoch': '1694085575', 'timestamp': '11:19:35', 'count': '288'}]\n"
     ]
    },
    {
     "name": "stdout",
     "output_type": "stream",
     "text": [
      "Finished writing amazon_10k_2022.pdf to OpenSearch\n",
      "Writing google_10k_2022.pdf to OpenSearch\n"
     ]
    },
    {
     "name": "stderr",
     "output_type": "stream",
     "text": [
      "2023-09-07 07:19:41,325 - src.logger - INFO - 1 doc inputted with 334124 chars.\n",
      "2023-09-07 07:19:41,326 - src.logger - INFO - 341 sub-docs created.\n",
      "2023-09-07 07:19:41,627 - src.logger - INFO - Loaded model thenlper/gte-small\n",
      "2023-09-07 07:19:41,627 - src.logger - INFO - Getting embeddings for 300 texts\n",
      "100%|██████████| 300/300 [00:02<00:00, 118.44it/s]\n",
      "2023-09-07 07:20:08,388 - src.logger - INFO - Done\n",
      "2023-09-07 07:20:08,431 - src.logger - INFO - [{'epoch': '1694085608', 'timestamp': '11:20:08', 'count': '588'}]\n"
     ]
    },
    {
     "name": "stdout",
     "output_type": "stream",
     "text": [
      "Finished writing google_10k_2022.pdf to OpenSearch\n",
      "Writing meta_10k_2022.pdf to OpenSearch\n"
     ]
    },
    {
     "name": "stderr",
     "output_type": "stream",
     "text": [
      "2023-09-07 07:20:21,256 - src.logger - INFO - 1 doc inputted with 490502 chars.\n",
      "2023-09-07 07:20:21,256 - src.logger - INFO - 540 sub-docs created.\n",
      "2023-09-07 07:20:21,580 - src.logger - INFO - Loaded model thenlper/gte-small\n",
      "2023-09-07 07:20:21,580 - src.logger - INFO - Getting embeddings for 300 texts\n",
      "100%|██████████| 300/300 [00:02<00:00, 124.40it/s]\n",
      "2023-09-07 07:20:47,389 - src.logger - INFO - Done\n",
      "2023-09-07 07:20:47,411 - src.logger - INFO - [{'epoch': '1694085647', 'timestamp': '11:20:47', 'count': '888'}]\n"
     ]
    },
    {
     "name": "stdout",
     "output_type": "stream",
     "text": [
      "Finished writing meta_10k_2022.pdf to OpenSearch\n",
      "Writing tesla_10k_2022.pdf to OpenSearch\n"
     ]
    },
    {
     "name": "stderr",
     "output_type": "stream",
     "text": [
      "2023-09-07 07:21:13,932 - src.logger - INFO - 1 doc inputted with 868975 chars.\n",
      "2023-09-07 07:21:13,933 - src.logger - INFO - 926 sub-docs created.\n",
      "2023-09-07 07:21:14,305 - src.logger - INFO - Loaded model thenlper/gte-small\n",
      "2023-09-07 07:21:14,306 - src.logger - INFO - Getting embeddings for 300 texts\n",
      "100%|██████████| 300/300 [00:02<00:00, 137.50it/s]\n",
      "2023-09-07 07:21:37,090 - src.logger - INFO - Done\n",
      "2023-09-07 07:21:37,118 - src.logger - INFO - [{'epoch': '1694085697', 'timestamp': '11:21:37', 'count': '1188'}]\n"
     ]
    },
    {
     "name": "stdout",
     "output_type": "stream",
     "text": [
      "Finished writing tesla_10k_2022.pdf to OpenSearch\n",
      "Writing apple_10k_2022.pdf to OpenSearch\n"
     ]
    },
    {
     "name": "stderr",
     "output_type": "stream",
     "text": [
      "2023-09-07 07:21:41,716 - src.logger - INFO - 1 doc inputted with 287558 chars.\n",
      "2023-09-07 07:21:41,717 - src.logger - INFO - 311 sub-docs created.\n",
      "2023-09-07 07:21:42,020 - src.logger - INFO - Loaded model thenlper/gte-small\n",
      "2023-09-07 07:21:42,021 - src.logger - INFO - Getting embeddings for 300 texts\n",
      "100%|██████████| 300/300 [00:02<00:00, 128.92it/s]\n",
      "2023-09-07 07:22:09,841 - src.logger - INFO - Done\n",
      "2023-09-07 07:22:09,872 - src.logger - INFO - [{'epoch': '1694085729', 'timestamp': '11:22:09', 'count': '1488'}]\n"
     ]
    },
    {
     "name": "stdout",
     "output_type": "stream",
     "text": [
      "Finished writing apple_10k_2022.pdf to OpenSearch\n"
     ]
    }
   ],
   "source": [
    "model_id='thenlper/gte-small'\n",
    "path_pdfs = get_all_data_paths()\n",
    "osc = OpenSearchClient(model_id=model_id)\n",
    "osc.create_index(overwrite=True)\n",
    "for path_pdf in path_pdfs:\n",
    "    print(f'Writing {path_pdf.name} to OpenSearch')\n",
    "    write_embeddings(model_id, path_pdf, osc, prepend=False)\n",
    "    print(f'Finished writing {path_pdf.name} to OpenSearch')"
   ]
  },
  {
   "cell_type": "code",
   "execution_count": 6,
   "metadata": {},
   "outputs": [
    {
     "data": {
      "text/plain": [
       "4.39453125"
      ]
     },
     "execution_count": 6,
     "metadata": {},
     "output_type": "execute_result"
    }
   ],
   "source": [
    "# estimate size of db\n",
    "# docs * sub*docs * vector size * 4 bytes * 2 models\n",
    "5 * 300 * 384 * 4 * 2 / 1024 / 1024 # in MB"
   ]
  },
  {
   "cell_type": "code",
   "execution_count": null,
   "metadata": {},
   "outputs": [],
   "source": []
  }
 ],
 "metadata": {
  "kernelspec": {
   "display_name": "hf2",
   "language": "python",
   "name": "hf2"
  },
  "language_info": {
   "codemirror_mode": {
    "name": "ipython",
    "version": 3
   },
   "file_extension": ".py",
   "mimetype": "text/x-python",
   "name": "python",
   "nbconvert_exporter": "python",
   "pygments_lexer": "ipython3",
   "version": "3.11.4"
  },
  "orig_nbformat": 4
 },
 "nbformat": 4,
 "nbformat_minor": 2
}
