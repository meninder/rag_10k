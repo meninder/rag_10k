{
 "cells": [
  {
   "cell_type": "code",
   "execution_count": 1,
   "metadata": {},
   "outputs": [],
   "source": [
    "%load_ext autoreload\n",
    "%autoreload 2"
   ]
  },
  {
   "cell_type": "code",
   "execution_count": 2,
   "metadata": {},
   "outputs": [],
   "source": [
    "from typing import List\n",
    "import pandas as pd"
   ]
  },
  {
   "cell_type": "code",
   "execution_count": 3,
   "metadata": {},
   "outputs": [],
   "source": [
    "from src.opensearch import OpenSearchClient\n",
    "from src.embedding_helper import EmbeddingHelper\n",
    "from src.doc_processor_helper import get_all_data_paths\n",
    "from transformers import pipeline\n",
    "from src.logger import logger"
   ]
  },
  {
   "cell_type": "markdown",
   "metadata": {},
   "source": [
    "# Running all pdfs"
   ]
  },
  {
   "cell_type": "code",
   "execution_count": 4,
   "metadata": {},
   "outputs": [
    {
     "name": "stderr",
     "output_type": "stream",
     "text": [
      "Some weights of the model checkpoint at bert-base-cased were not used when initializing BertForMaskedLM: ['cls.seq_relationship.weight', 'cls.seq_relationship.bias']\n",
      "- This IS expected if you are initializing BertForMaskedLM from the checkpoint of a model trained on another task or with another architecture (e.g. initializing a BertForSequenceClassification model from a BertForPreTraining model).\n",
      "- This IS NOT expected if you are initializing BertForMaskedLM from the checkpoint of a model that you expect to be exactly identical (initializing a BertForSequenceClassification model from a BertForSequenceClassification model).\n",
      "2023-09-07 08:59:58,824 - src.logger - INFO - found 5 pdfs in /Users/meninderpurewal/My Drive/Mikey/Code/Retrieval/data\n"
     ]
    }
   ],
   "source": [
    "# config\n",
    "models_retrieval = ['intfloat/e5-small-v2', 'thenlper/gte-small']\n",
    "questions_retrieval = ['query: What is the name of the company?', 'What is the name of the company?']\n",
    "k_retrieval = 20\n",
    "query_mask = \".  The name of the company is [MASK].\"\n",
    "query_qa = \"What is the name of the company?\"\n",
    "pipe_qa = pipeline(\"question-answering\", model='distilbert-base-cased-distilled-squad') # QA\n",
    "pipe_mlm = pipeline('fill-mask', model='bert-base-cased') # MLM\n",
    "path_pdfs = get_all_data_paths()"
   ]
  },
  {
   "cell_type": "code",
   "execution_count": 5,
   "metadata": {},
   "outputs": [],
   "source": [
    "def extract(texts: List, query: str, pipe: pipeline, mlm: bool)->List:\n",
    "    l = []\n",
    "    for r in texts:\n",
    "        txt = r.replace('passage: ', '')\n",
    "        if mlm:\n",
    "            txt = txt + query\n",
    "            ans = pipe(txt)\n",
    "            ans = [(a['token_str'], a['score']) for a in ans]\n",
    "        else:\n",
    "            ans = pipe(question=query, context=txt)\n",
    "            ans = [(ans['answer'], ans['score'])]\n",
    "        l.extend(ans)\n",
    "    #l.sort(key=lambda x: x[1], reverse=True)\n",
    "    return l"
   ]
  },
  {
   "cell_type": "code",
   "execution_count": 6,
   "metadata": {},
   "outputs": [
    {
     "name": "stderr",
     "output_type": "stream",
     "text": [
      "2023-09-07 09:00:01,838 - src.logger - INFO - Retrieval model_id: intfloat/e5-small-v2\n",
      "2023-09-07 09:00:02,261 - src.logger - INFO - Loaded model intfloat/e5-small-v2\n",
      "2023-09-07 09:00:02,313 - src.logger - INFO - {'name': '87fee34ad386', 'cluster_name': 'docker-cluster', 'cluster_uuid': '-a_peNY5SsWnBbMYhkB_OA', 'version': {'distribution': 'opensearch', 'number': '2.6.0', 'build_type': 'tar', 'build_hash': '7203a5af21a8a009aece1474446b437a3c674db6', 'build_date': '2023-02-24T18:58:37.352296474Z', 'build_snapshot': False, 'lucene_version': '9.5.0', 'minimum_wire_compatibility_version': '7.10.0', 'minimum_index_compatibility_version': '7.0.0'}, 'tagline': 'The OpenSearch Project: https://opensearch.org/'}\n",
      "2023-09-07 09:00:02,313 - src.logger - INFO - Using index name intfloat-e5-small-v2-index\n",
      "2023-09-07 09:00:02,313 - src.logger - INFO - Getting embeddings for query: What is the name of the company?\n",
      "2023-09-07 09:00:02,337 - src.logger - INFO - Retrieval for path_pdf: amazon_10k_2022.pdf\n",
      "2023-09-07 09:00:02,394 - src.logger - INFO - Extraction using MLM\n",
      "2023-09-07 09:00:04,622 - src.logger - INFO - Extraction using QA\n",
      "2023-09-07 09:00:05,720 - src.logger - INFO - Retrieval for path_pdf: google_10k_2022.pdf\n",
      "2023-09-07 09:00:05,767 - src.logger - INFO - Extraction using MLM\n",
      "2023-09-07 09:00:08,175 - src.logger - INFO - Extraction using QA\n",
      "2023-09-07 09:00:09,338 - src.logger - INFO - Retrieval for path_pdf: meta_10k_2022.pdf\n",
      "2023-09-07 09:00:09,378 - src.logger - INFO - Extraction using MLM\n",
      "2023-09-07 09:00:11,765 - src.logger - INFO - Extraction using QA\n",
      "2023-09-07 09:00:12,860 - src.logger - INFO - Retrieval for path_pdf: tesla_10k_2022.pdf\n",
      "2023-09-07 09:00:12,905 - src.logger - INFO - Extraction using MLM\n",
      "2023-09-07 09:00:15,255 - src.logger - INFO - Extraction using QA\n",
      "2023-09-07 09:00:16,288 - src.logger - INFO - Retrieval for path_pdf: apple_10k_2022.pdf\n",
      "2023-09-07 09:00:16,320 - src.logger - INFO - Extraction using MLM\n",
      "2023-09-07 09:00:18,343 - src.logger - INFO - Extraction using QA\n",
      "2023-09-07 09:00:19,309 - src.logger - INFO - Retrieval model_id: thenlper/gte-small\n",
      "2023-09-07 09:00:19,569 - src.logger - INFO - Loaded model thenlper/gte-small\n",
      "2023-09-07 09:00:19,611 - src.logger - INFO - {'name': '87fee34ad386', 'cluster_name': 'docker-cluster', 'cluster_uuid': '-a_peNY5SsWnBbMYhkB_OA', 'version': {'distribution': 'opensearch', 'number': '2.6.0', 'build_type': 'tar', 'build_hash': '7203a5af21a8a009aece1474446b437a3c674db6', 'build_date': '2023-02-24T18:58:37.352296474Z', 'build_snapshot': False, 'lucene_version': '9.5.0', 'minimum_wire_compatibility_version': '7.10.0', 'minimum_index_compatibility_version': '7.0.0'}, 'tagline': 'The OpenSearch Project: https://opensearch.org/'}\n",
      "2023-09-07 09:00:19,611 - src.logger - INFO - Using index name thenlper-gte-small-index\n",
      "2023-09-07 09:00:19,612 - src.logger - INFO - Getting embeddings for What is the name of the company?\n",
      "2023-09-07 09:00:19,633 - src.logger - INFO - Retrieval for path_pdf: amazon_10k_2022.pdf\n",
      "2023-09-07 09:00:19,669 - src.logger - INFO - Extraction using MLM\n",
      "2023-09-07 09:00:22,585 - src.logger - INFO - Extraction using QA\n",
      "2023-09-07 09:00:23,928 - src.logger - INFO - Retrieval for path_pdf: google_10k_2022.pdf\n",
      "2023-09-07 09:00:23,949 - src.logger - INFO - Extraction using MLM\n",
      "2023-09-07 09:00:26,586 - src.logger - INFO - Extraction using QA\n",
      "2023-09-07 09:00:28,002 - src.logger - INFO - Retrieval for path_pdf: meta_10k_2022.pdf\n",
      "2023-09-07 09:00:28,053 - src.logger - INFO - Extraction using MLM\n",
      "2023-09-07 09:00:30,730 - src.logger - INFO - Extraction using QA\n",
      "2023-09-07 09:00:31,988 - src.logger - INFO - Retrieval for path_pdf: tesla_10k_2022.pdf\n",
      "2023-09-07 09:00:32,024 - src.logger - INFO - Extraction using MLM\n",
      "2023-09-07 09:00:34,485 - src.logger - INFO - Extraction using QA\n",
      "2023-09-07 09:00:35,608 - src.logger - INFO - Retrieval for path_pdf: apple_10k_2022.pdf\n",
      "2023-09-07 09:00:35,645 - src.logger - INFO - Extraction using MLM\n",
      "2023-09-07 09:00:38,021 - src.logger - INFO - Extraction using QA\n"
     ]
    }
   ],
   "source": [
    "results = [] # list of lists [model_retrieval, path_pdf, response_score, response_text, mlm_score, mlm_value, qa_score, qa_value]\n",
    "\n",
    "for idx_retrieval in [0,1]:\n",
    "    model_id = models_retrieval[idx_retrieval]\n",
    "    logger.info('Retrieval model_id: %s', model_id)\n",
    "    eh = EmbeddingHelper(model_id=model_id)\n",
    "    osc = OpenSearchClient(model_id=model_id)\n",
    "    qe = eh.get_embeddings_query(questions_retrieval[idx_retrieval], model_id=model_id)\n",
    "    for path_pdf in path_pdfs:\n",
    "        logger.info('Retrieval for path_pdf: %s', path_pdf.name)\n",
    "        response = osc.search_documents(qe, path_pdf.name, k=k_retrieval)\n",
    "        response_text = [r[1] for r in response]\n",
    "\n",
    "        logger.info('Extraction using MLM on %s: ', path_pdf.name)\n",
    "        mlm = extract(response_text, query_mask, pipe_mlm, mlm=True)\n",
    "        logger.info('Extraction using QA on %s: ', path_pdf.name)\n",
    "        qa = extract(response_text, query_qa, pipe_qa, mlm=False)\n",
    "        for r, m, q in zip(response, mlm, qa):\n",
    "            results.append([model_id, path_pdf.name, r[0], r[1], m[1], m[0], q[1], q[0]])\n",
    "\n"
   ]
  },
  {
   "cell_type": "code",
   "execution_count": 7,
   "metadata": {},
   "outputs": [],
   "source": [
    "cols = ['model_id', 'path_pdf', 'response_score', 'response_text', 'mlm_score', 'mlm_value', 'qa_score', 'qa_value']\n",
    "df = pd.DataFrame(results, columns=cols)"
   ]
  },
  {
   "cell_type": "code",
   "execution_count": 8,
   "metadata": {},
   "outputs": [],
   "source": [
    "# save pandas dataframe as a pickle file\n",
    "df.to_pickle(\"./data/results.pkl\")\n",
    "# load it back\n",
    "# df = pd.read_pickle(\"./data/results.pkl\")\n",
    "# df.to_csv('./data/results.csv', index=False)\n"
   ]
  },
  {
   "cell_type": "markdown",
   "metadata": {},
   "source": [
    "Analysis"
   ]
  },
  {
   "cell_type": "code",
   "execution_count": 9,
   "metadata": {},
   "outputs": [],
   "source": [
    "df.sort_values(by=['mlm_score'], ascending=False, inplace=True)"
   ]
  },
  {
   "cell_type": "code",
   "execution_count": 24,
   "metadata": {},
   "outputs": [
    {
     "name": "stdout",
     "output_type": "stream",
     "text": [
      "amazon_10k_2022.pdf\n",
      "               model_id             path_pdf  response_score  \\\n",
      "0    thenlper/gte-small  amazon_10k_2022.pdf        0.751230   \n",
      "100  thenlper/gte-small  amazon_10k_2022.pdf        0.751230   \n",
      "8    thenlper/gte-small  amazon_10k_2022.pdf        0.739897   \n",
      "108  thenlper/gte-small  amazon_10k_2022.pdf        0.739897   \n",
      "115  thenlper/gte-small  amazon_10k_2022.pdf        0.730996   \n",
      "15   thenlper/gte-small  amazon_10k_2022.pdf        0.730996   \n",
      "103  thenlper/gte-small  amazon_10k_2022.pdf        0.748023   \n",
      "3    thenlper/gte-small  amazon_10k_2022.pdf        0.748023   \n",
      "9    thenlper/gte-small  amazon_10k_2022.pdf        0.739638   \n",
      "109  thenlper/gte-small  amazon_10k_2022.pdf        0.739638   \n",
      "\n",
      "                                         response_text  mlm_score  \\\n",
      "0    cash on hand. We expect to fund the acquisitio...   0.032546   \n",
      "100  cash on hand. We expect to fund the acquisitio...   0.032546   \n",
      "8    We Face Risks Related to Adequately Protecting...   0.007496   \n",
      "108  We Face Risks Related to Adequately Protecting...   0.007496   \n",
      "115  Financial Statements and Supplementary Data\\n\\...   0.052061   \n",
      "15   Financial Statements and Supplementary Data\\n\\...   0.052061   \n",
      "103  payment, if any.\\n\\nIn July 2022, we entered i...   0.013957   \n",
      "3    payment, if any.\\n\\nIn July 2022, we entered i...   0.013957   \n",
      "9    We have organized our operations into three se...   0.007427   \n",
      "109  We have organized our operations into three se...   0.007427   \n",
      "\n",
      "         mlm_value  qa_score  \\\n",
      "0          unknown  0.778275   \n",
      "100        unknown  0.778275   \n",
      "8       Enterprise  0.644646   \n",
      "108     Enterprise  0.644646   \n",
      "115            Inc  0.610301   \n",
      "15             Inc  0.610301   \n",
      "103              .  0.583612   \n",
      "3                .  0.583612   \n",
      "9    International  0.457199   \n",
      "109  International  0.457199   \n",
      "\n",
      "                                              qa_value  \n",
      "0                                   iRobot Corporation  \n",
      "100                                 iRobot Corporation  \n",
      "8    Adequately Protecting Our Intellectual Propert...  \n",
      "108  Adequately Protecting Our Intellectual Propert...  \n",
      "115                                         Amazon.com  \n",
      "15                                          Amazon.com  \n",
      "103                                 iRobot Corporation  \n",
      "3                                   iRobot Corporation  \n",
      "9                                  Amazon Web Services  \n",
      "109                                Amazon Web Services  \n",
      "------------------\n",
      "google_10k_2022.pdf\n",
      "               model_id             path_pdf  response_score  \\\n",
      "25   thenlper/gte-small  google_10k_2022.pdf        0.737984   \n",
      "125  thenlper/gte-small  google_10k_2022.pdf        0.737984   \n",
      "136  thenlper/gte-small  google_10k_2022.pdf        0.729656   \n",
      "36   thenlper/gte-small  google_10k_2022.pdf        0.729656   \n",
      "126  thenlper/gte-small  google_10k_2022.pdf        0.737372   \n",
      "26   thenlper/gte-small  google_10k_2022.pdf        0.737372   \n",
      "122  thenlper/gte-small  google_10k_2022.pdf        0.743042   \n",
      "22   thenlper/gte-small  google_10k_2022.pdf        0.743042   \n",
      "34   thenlper/gte-small  google_10k_2022.pdf        0.730390   \n",
      "134  thenlper/gte-small  google_10k_2022.pdf        0.730390   \n",
      "\n",
      "                                         response_text  mlm_score  \\\n",
      "25   As of December 31, 2021, Alphabet had 156,500 ...   0.032492   \n",
      "125  As of December 31, 2021, Alphabet had 156,500 ...   0.032492   \n",
      "136  Waymo\\n\\nIn June 2021, Waymo, a self-driving t...   0.009456   \n",
      "36   Waymo\\n\\nIn June 2021, Waymo, a self-driving t...   0.009456   \n",
      "126  Intellectual Property\\n\\nWe rely on various in...   0.011671   \n",
      "26   Intellectual Property\\n\\nWe rely on various in...   0.011671   \n",
      "122  In January 2021, we updated the useful lives o...   0.009063   \n",
      "22   In January 2021, we updated the useful lives o...   0.009063   \n",
      "34   capital expenditures.\\n\\nWe continue to make s...   0.012675   \n",
      "134  capital expenditures.\\n\\nWe continue to make s...   0.012675   \n",
      "\n",
      "       mlm_value  qa_score               qa_value  \n",
      "25       unknown  0.997134               Alphabet  \n",
      "125      unknown  0.997134               Alphabet  \n",
      "136       Oracle  0.901910                  Waymo  \n",
      "36        Oracle  0.901910                  Waymo  \n",
      "126       Google  0.894296  Intellectual Property  \n",
      "26        Google  0.894296  Intellectual Property  \n",
      "122            S  0.782200                 Fitbit  \n",
      "22             S  0.782200                 Fitbit  \n",
      "34   descriptive  0.657821                 Fitbit  \n",
      "134  descriptive  0.657821                 Fitbit  \n",
      "------------------\n",
      "meta_10k_2022.pdf\n",
      "               model_id           path_pdf  response_score  \\\n",
      "55   thenlper/gte-small  meta_10k_2022.pdf        0.722886   \n",
      "155  thenlper/gte-small  meta_10k_2022.pdf        0.722886   \n",
      "156  thenlper/gte-small  meta_10k_2022.pdf        0.722278   \n",
      "56   thenlper/gte-small  meta_10k_2022.pdf        0.722278   \n",
      "57   thenlper/gte-small  meta_10k_2022.pdf        0.720803   \n",
      "157  thenlper/gte-small  meta_10k_2022.pdf        0.720803   \n",
      "158  thenlper/gte-small  meta_10k_2022.pdf        0.720738   \n",
      "58   thenlper/gte-small  meta_10k_2022.pdf        0.720738   \n",
      "140  thenlper/gte-small  meta_10k_2022.pdf        0.767797   \n",
      "40   thenlper/gte-small  meta_10k_2022.pdf        0.767797   \n",
      "\n",
      "                                         response_text  mlm_score   mlm_value  \\\n",
      "55   Oversight Board, by research or media reports ...   0.008742         LLC   \n",
      "155  Oversight Board, by research or media reports ...   0.008742         LLC   \n",
      "156  Securities registered pursuant to Section 12(g...   0.006930         Inc   \n",
      "56   Securities registered pursuant to Section 12(g...   0.006930         Inc   \n",
      "57                                         Competition   0.004840      Google   \n",
      "157                                        Competition   0.004840      Google   \n",
      "158  If securities are registered pursuant to Secti...   0.004248  Innovation   \n",
      "58   If securities are registered pursuant to Secti...   0.004248  Innovation   \n",
      "140  Corporate Information\\n\\nWe were incorporated ...   0.061748     unknown   \n",
      "40   Corporate Information\\n\\nWe were incorporated ...   0.061748     unknown   \n",
      "\n",
      "     qa_score         qa_value  \n",
      "55   0.996021  Oversight Board  \n",
      "155  0.996021  Oversight Board  \n",
      "156  0.909005       Securities  \n",
      "56   0.909005       Securities  \n",
      "57   0.619219      Competition  \n",
      "157  0.619219      Competition  \n",
      "158  0.330813    shell company  \n",
      "58   0.330813    shell company  \n",
      "140  0.311215   Meta Platforms  \n",
      "40   0.311215   Meta Platforms  \n",
      "------------------\n",
      "tesla_10k_2022.pdf\n",
      "               model_id            path_pdf  response_score  \\\n",
      "169  thenlper/gte-small  tesla_10k_2022.pdf        0.727182   \n",
      "69   thenlper/gte-small  tesla_10k_2022.pdf        0.727182   \n",
      "165  thenlper/gte-small  tesla_10k_2022.pdf        0.729267   \n",
      "65   thenlper/gte-small  tesla_10k_2022.pdf        0.729267   \n",
      "161  thenlper/gte-small  tesla_10k_2022.pdf        0.743874   \n",
      "61   thenlper/gte-small  tesla_10k_2022.pdf        0.743874   \n",
      "72   thenlper/gte-small  tesla_10k_2022.pdf        0.725544   \n",
      "172  thenlper/gte-small  tesla_10k_2022.pdf        0.725544   \n",
      "170  thenlper/gte-small  tesla_10k_2022.pdf        0.726466   \n",
      "70   thenlper/gte-small  tesla_10k_2022.pdf        0.726466   \n",
      "\n",
      "                                         response_text  mlm_score mlm_value  \\\n",
      "169  Debt,\\tto\\tthe\\tconsolidated\\tfinancial\\tstate...   0.014453       LLC   \n",
      "69   Debt,\\tto\\tthe\\tconsolidated\\tfinancial\\tstate...   0.014453       LLC   \n",
      "165  We\\tbelieve\\tthat\\tsound\\tcorporate\\tgovernanc...   0.317066   unknown   \n",
      "65   We\\tbelieve\\tthat\\tsound\\tcorporate\\tgovernanc...   0.317066   unknown   \n",
      "161  ☒\\n\\nAccelerated\\tfiler\\n\\n☐\\n\\nLarge\\tacceler...   0.019534   unknown   \n",
      "61   ☒\\n\\nAccelerated\\tfiler\\n\\n☐\\n\\nLarge\\tacceler...   0.019534   unknown   \n",
      "72   Manufacturing\\n\\nWe\\tcurrently\\thave\\tmanufact...   0.008297       Inc   \n",
      "172  Manufacturing\\n\\nWe\\tcurrently\\thave\\tmanufact...   0.008297       Inc   \n",
      "170  We\\tbelieve\\tthat\\tthere\\tis\\talso\\tincreasing...   0.017656       LLC   \n",
      "70   We\\tbelieve\\tthat\\tthere\\tis\\talso\\tincreasing...   0.017656       LLC   \n",
      "\n",
      "     qa_score                                           qa_value  \n",
      "169  0.825610                                               Debt  \n",
      "69   0.825610                                               Debt  \n",
      "165  0.725949                       ESG\\tSustainability\\tCouncil  \n",
      "65   0.725949                       ESG\\tSustainability\\tCouncil  \n",
      "161  0.550833                          Emerging\\tgrowth\\tcompany  \n",
      "61   0.550833                          Emerging\\tgrowth\\tcompany  \n",
      "72   0.378617                                      Manufacturing  \n",
      "172  0.378617                                      Manufacturing  \n",
      "170  0.364931  Energy\\tGeneration\\tand\\tStorage\\n\\nEnergy\\tSt...  \n",
      "70   0.364931  Energy\\tGeneration\\tand\\tStorage\\n\\nEnergy\\tSt...  \n",
      "------------------\n",
      "apple_10k_2022.pdf\n",
      "               model_id            path_pdf  response_score  \\\n",
      "83   thenlper/gte-small  apple_10k_2022.pdf        0.748982   \n",
      "183  thenlper/gte-small  apple_10k_2022.pdf        0.748982   \n",
      "197  thenlper/gte-small  apple_10k_2022.pdf        0.734978   \n",
      "97   thenlper/gte-small  apple_10k_2022.pdf        0.734978   \n",
      "185  thenlper/gte-small  apple_10k_2022.pdf        0.744216   \n",
      "85   thenlper/gte-small  apple_10k_2022.pdf        0.744216   \n",
      "90   thenlper/gte-small  apple_10k_2022.pdf        0.738302   \n",
      "190  thenlper/gte-small  apple_10k_2022.pdf        0.738302   \n",
      "191  thenlper/gte-small  apple_10k_2022.pdf        0.737371   \n",
      "91   thenlper/gte-small  apple_10k_2022.pdf        0.737371   \n",
      "\n",
      "                                         response_text  mlm_score mlm_value  \\\n",
      "83   Intellectual Property\\n\\nThe Company currently...   0.019716  disputed   \n",
      "183  Intellectual Property\\n\\nThe Company currently...   0.019716  disputed   \n",
      "197  The Company’s business also requires it to sha...   0.016357   unknown   \n",
      "97   The Company’s business also requires it to sha...   0.016357   unknown   \n",
      "185  The Company regularly files patent, design, co...   0.062617       LLC   \n",
      "85   The Company regularly files patent, design, co...   0.062617       LLC   \n",
      "90   Apple Inc. | 2022 Form 10-K | 2\\n\\nThe Company...   0.044395       LLC   \n",
      "190  Apple Inc. | 2022 Form 10-K | 2\\n\\nThe Company...   0.044395       LLC   \n",
      "191  Indicate by check mark whether the Registrant ...   0.040196       Inc   \n",
      "91   Indicate by check mark whether the Registrant ...   0.040196       Inc   \n",
      "\n",
      "     qa_score               qa_value  \n",
      "83   0.860624  Intellectual Property  \n",
      "183  0.860624  Intellectual Property  \n",
      "197  0.736733                  Apple  \n",
      "97   0.736733                  Apple  \n",
      "185  0.708466              Apple Inc  \n",
      "85   0.708466              Apple Inc  \n",
      "90   0.676219              Apple Inc  \n",
      "190  0.676219              Apple Inc  \n",
      "191  0.596471          shell company  \n",
      "91   0.596471          shell company  \n",
      "------------------\n"
     ]
    }
   ],
   "source": [
    "for path_pdf in path_pdfs:\n",
    "    print(path_pdf.name)\n",
    "    df_pdf = df[df['path_pdf'] == path_pdf.name].copy()\n",
    "    df_pdf.sort_values(by=['qa_score'], ascending=False, inplace=True)\n",
    "    print(df_pdf.head(10))\n",
    "    print('------------------')"
   ]
  },
  {
   "cell_type": "code",
   "execution_count": null,
   "metadata": {},
   "outputs": [],
   "source": [
    "QUERY_COMPANY = '''What is the name of the company being discussed?'''\n",
    "QUERY_REVENUE = '''What is the annual revenue of the company?'''\n",
    "QUERY_TICKER = '''What is the ticker of the company?'''"
   ]
  },
  {
   "cell_type": "markdown",
   "metadata": {},
   "source": [
    "# Run One pdf"
   ]
  },
  {
   "cell_type": "markdown",
   "metadata": {},
   "source": [
    "## Retrieval"
   ]
  },
  {
   "cell_type": "code",
   "execution_count": 26,
   "metadata": {},
   "outputs": [
    {
     "name": "stderr",
     "output_type": "stream",
     "text": [
      "2023-09-07 11:53:54,335 - src.logger - INFO - Loaded model intfloat/e5-small-v2\n",
      "2023-09-07 11:53:54,342 - src.logger - INFO - Getting embeddings for query: What should I name this company?\n"
     ]
    }
   ],
   "source": [
    "query = 'query: What should I name this company?'\n",
    "query = 'query: What is the name of the company?'\n",
    "#query = 'query: What is the annual revenue of the company?'\n",
    "model_id='intfloat/e5-small-v2'\n",
    "eh = EmbeddingHelper(model_id=model_id)\n",
    "qe = eh.get_embeddings_query(query, model_id=model_id)"
   ]
  },
  {
   "cell_type": "code",
   "execution_count": 27,
   "metadata": {},
   "outputs": [
    {
     "name": "stderr",
     "output_type": "stream",
     "text": [
      "2023-09-07 11:53:54,936 - src.logger - INFO - {'name': '87fee34ad386', 'cluster_name': 'docker-cluster', 'cluster_uuid': '-a_peNY5SsWnBbMYhkB_OA', 'version': {'distribution': 'opensearch', 'number': '2.6.0', 'build_type': 'tar', 'build_hash': '7203a5af21a8a009aece1474446b437a3c674db6', 'build_date': '2023-02-24T18:58:37.352296474Z', 'build_snapshot': False, 'lucene_version': '9.5.0', 'minimum_wire_compatibility_version': '7.10.0', 'minimum_index_compatibility_version': '7.0.0'}, 'tagline': 'The OpenSearch Project: https://opensearch.org/'}\n",
      "2023-09-07 11:53:54,936 - src.logger - INFO - Using index name intfloat-e5-small-v2-index\n"
     ]
    }
   ],
   "source": [
    "osc = OpenSearchClient(model_id=model_id)\n",
    "response= osc.search_documents(qe, 'apple_10k_2022.pdf', k=20)"
   ]
  },
  {
   "cell_type": "code",
   "execution_count": 28,
   "metadata": {},
   "outputs": [
    {
     "name": "stdout",
     "output_type": "stream",
     "text": [
      "20\n"
     ]
    }
   ],
   "source": [
    "response.sort(key=lambda x: x[0], reverse=True)\n",
    "print(len(response))\n",
    "response_text = [r[1] for r in response]"
   ]
  },
  {
   "cell_type": "code",
   "execution_count": 29,
   "metadata": {},
   "outputs": [
    {
     "data": {
      "text/plain": [
       "[(0.74294984,\n",
       "  'passage: have a material adverse impact on the Company’s business, results of operations and financial condition.'),\n",
       " (0.73366475, 'passage: Apple Inc. | 2022 Form 10-K | 8'),\n",
       " (0.72973746,\n",
       "  'passage: Apple Inc. | 2022 Form 10-K | 7\\n\\nBusiness Risks\\n\\nTo remain competitive and stimulate customer demand, the Company must successfully manage frequent introductions and transitions of products and services.')]"
      ]
     },
     "execution_count": 29,
     "metadata": {},
     "output_type": "execute_result"
    }
   ],
   "source": [
    "response[:3]"
   ]
  },
  {
   "cell_type": "markdown",
   "metadata": {},
   "source": [
    "## Extraction"
   ]
  },
  {
   "cell_type": "code",
   "execution_count": 10,
   "metadata": {},
   "outputs": [
    {
     "name": "stderr",
     "output_type": "stream",
     "text": [
      "Some weights of the model checkpoint at bert-base-cased were not used when initializing BertForMaskedLM: ['cls.seq_relationship.bias', 'cls.seq_relationship.weight']\n",
      "- This IS expected if you are initializing BertForMaskedLM from the checkpoint of a model trained on another task or with another architecture (e.g. initializing a BertForSequenceClassification model from a BertForPreTraining model).\n",
      "- This IS NOT expected if you are initializing BertForMaskedLM from the checkpoint of a model that you expect to be exactly identical (initializing a BertForSequenceClassification model from a BertForSequenceClassification model).\n"
     ]
    },
    {
     "name": "stdout",
     "output_type": "stream",
     "text": [
      "mlm:\n",
      "[('Messenger', 0.7873184680938721), ('the', 0.35498788952827454), ('The', 0.34480974078178406), ('Government', 0.06383132934570312), ('unknown', 0.061747707426548004), ('LLC', 0.05567697808146477), ('unknown', 0.05320306494832039), ('Regulation', 0.048365090042352676), ('LLC', 0.04782203957438469), ('LLC', 0.04610437527298927), ('unknown', 0.029059216380119324), ('LLC', 0.029029149562120438), ('LLC', 0.02785695157945156), ('LLC', 0.025983288884162903), ('LLC', 0.02523551695048809), ('LLC', 0.024454236030578613), (':', 0.022109152749180794), ('Inc', 0.021660607308149338), ('regulated', 0.021331172436475754), ('LLC', 0.020701885223388672), ('LLC', 0.020700717344880104), ('Inc', 0.020132074132561684), ('LLC', 0.019516415894031525), ('unknown', 0.017448069527745247), ('LLC', 0.017401231452822685), ('Enterprise', 0.01704832911491394), ('LLC', 0.017036080360412598), ('[UNK]', 0.016596578061580658), ('[UNK]', 0.016510510817170143), ('.', 0.016416257247328758), ('LLC', 0.016096988692879677), ('Unity', 0.015580276027321815), ('Inc', 0.01557627972215414), ('Inc', 0.01557206828147173), ('Inc', 0.015237237326800823), ('listed', 0.015219492837786674), ('unknown', 0.014819661155343056), ('LLC', 0.014608675613999367), ('regulation', 0.014520601369440556), ('known', 0.014077764004468918), ('misleading', 0.01351185142993927), ('Enterprise', 0.013307325541973114), ('[UNK]', 0.013138124719262123), ('Texas', 0.01285743061453104), ('[UNK]', 0.012595497071743011), ('changed', 0.012457266449928284), ('Inc', 0.012422872707247734), ('a', 0.012400857172906399), ('.', 0.0123556824401021), ('Inc', 0.01223444752395153), ('Inc', 0.01215395424515009), ('Inc', 0.012046963907778263), ('Texas', 0.011316786520183086), ('unknown', 0.011307479813694954), ('LLC', 0.011241895146667957), ('Change', 0.010750667192041874), ('unknown', 0.010669960640370846), ('misleading', 0.01057104580104351), ('[UNK]', 0.010415304452180862), ('Enterprise', 0.010123227722942829), ('Inc', 0.01005928497761488), ('Facebook', 0.009755766950547695), ('Inc', 0.009590447880327702), ('unknown', 0.00915310624986887), ('LLC', 0.008742468431591988), ('Inc', 0.008233464322984219), ('[UNK]', 0.008203789591789246), ('Unknown', 0.008157007396221161), ('K', 0.0074245440773665905), ('.', 0.006970528047531843), ('Inc', 0.006929812487214804), ('Women', 0.006824298296123743), ('Inc', 0.006807995960116386), ('misleading', 0.006772277411073446), ('Inc', 0.006693673320114613), ('unknown', 0.00668183621019125), ('[UNK]', 0.0064145652577281), ('Green', 0.006340399384498596), ('Enterprise', 0.006293309852480888), ('Enterprise', 0.006018396932631731), ('Enterprise', 0.005768860690295696), ('J', 0.0054559484124183655), ('[UNK]', 0.005448599811643362), ('Microsoft', 0.005422614514827728), ('Delaware', 0.005258710123598576), ('.', 0.005236351862549782), ('R', 0.004991514142602682), ('Facebook', 0.004957127384841442), ('Enterprise', 0.0048652407713234425), ('J', 0.004859482869505882), ('Google', 0.004839839413762093), ('Marketing', 0.0047247749753296375), ('Met', 0.0047055622562766075), ('Innovation', 0.004248114302754402), ('[UNK]', 0.004165417980402708), ('[UNK]', 0.0041208392940461636), ('Guardian', 0.0040013138204813), ('Real', 0.0038011916913092136), ('Twitter', 0.0026801112107932568), ('Echo', 0.0024224254302680492)]\n"
     ]
    }
   ],
   "source": [
    "# extraction: MLM\n",
    "pipe_mlm = pipeline('fill-mask', model='bert-base-cased') # MLM\n",
    "l = []\n",
    "for r in response_text:\n",
    "    txt = r.replace('passage: ', '')\n",
    "    txt = txt + \".  The name of the company is [MASK].\"\n",
    "    #txt = r + '''The company's annual revenue was $[MASK] million.'''\n",
    "    ans = pipe_mlm(txt)\n",
    "    ans = [(a['token_str'], a['score']) for a in ans]\n",
    "    l.extend(ans)\n",
    "l.sort(key=lambda x: x[1], reverse=True)\n",
    "print(\"mlm:\")\n",
    "print(l)"
   ]
  },
  {
   "cell_type": "code",
   "execution_count": 11,
   "metadata": {},
   "outputs": [
    {
     "name": "stdout",
     "output_type": "stream",
     "text": [
      "qa\n",
      "[('company', 0.06052592024207115), ('Texas', 0.09065748751163483), ('developers', 0.5530598163604736), ('IDPC', 0.00030595457064919174), ('Compensation', 0.0004959810175932944), ('Meta', 0.5752513408660889), ('Reality Labs', 0.7245837450027466), ('online', 0.009905783459544182), ('metaverse', 0.34949374198913574), ('antitrust investigation', 0.005311804823577404), ('California', 0.007139567285776138), ('online', 0.0031969475094228983), ('Intellectual Property', 0.9862333536148071), ('FTC', 0.13476067781448364), ('Apps Products\\n\\n\\n\\nFacebook', 0.02249363623559475), ('Executive Overview of Full Year 2022', 0.7630600333213806), ('Meta Platforms', 0.31121528148651123), ('Meta', 0.9851541519165039), ('Instagram and WhatsApp', 0.44499194622039795), ('Business', 0.422544002532959)]\n"
     ]
    }
   ],
   "source": [
    "# extraction: QA\n",
    "pipe_qa = pipeline(\"question-answering\", model='distilbert-base-cased-distilled-squad') # QA\n",
    "l = []\n",
    "question = query.replace('query: ', '')\n",
    "for r in response_text:\n",
    "    text = r.replace('passage: ', '')\n",
    "    ans = pipe_qa(question=question, context=text)\n",
    "    ans = [(ans['answer'], ans['score'])]\n",
    "    l.extend(ans)\n",
    "#l.sort(key=lambda x: x[1], reverse=True)\n",
    "print(\"qa\")\n",
    "print(l)"
   ]
  }
 ],
 "metadata": {
  "kernelspec": {
   "display_name": "hf2",
   "language": "python",
   "name": "hf2"
  },
  "language_info": {
   "codemirror_mode": {
    "name": "ipython",
    "version": 3
   },
   "file_extension": ".py",
   "mimetype": "text/x-python",
   "name": "python",
   "nbconvert_exporter": "python",
   "pygments_lexer": "ipython3",
   "version": "3.11.4"
  },
  "orig_nbformat": 4
 },
 "nbformat": 4,
 "nbformat_minor": 2
}
